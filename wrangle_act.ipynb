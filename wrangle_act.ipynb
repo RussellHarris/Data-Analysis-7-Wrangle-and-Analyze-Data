{
 "cells": [
  {
   "cell_type": "markdown",
   "metadata": {},
   "source": [
    "# Wrangling and Analyzing WeRateDogs Twitter Archive"
   ]
  },
  {
   "cell_type": "markdown",
   "metadata": {},
   "source": [
    "## Packages"
   ]
  },
  {
   "cell_type": "markdown",
   "metadata": {},
   "source": [
    "The following packages (libraries) need to be installed. You can install these packages via conda or pip. Please revisit our Anaconda tutorial earlier in the Nanodegree program for package installation instructions.\n",
    "* pandas\n",
    "* NumPy\n",
    "* requests\n",
    "* tweepy\n",
    "* json"
   ]
  },
  {
   "cell_type": "code",
   "execution_count": 1,
   "metadata": {},
   "outputs": [],
   "source": [
    "import pandas as pd\n",
    "import numpy as np\n",
    "import requests\n",
    "import tweepy \n",
    "import json\n",
    "#Adding more libraries for plotting\n",
    "import matplotlib.pyplot as plt\n",
    "% matplotlib inline\n",
    "import seaborn as sns\n",
    "#Suppress annoying messages\n",
    "import warnings\n",
    "#warnings.filterwarnings('ignore')"
   ]
  },
  {
   "cell_type": "markdown",
   "metadata": {},
   "source": [
    "## Gather"
   ]
  },
  {
   "cell_type": "markdown",
   "metadata": {},
   "source": [
    "1. The WeRateDogs Twitter archive. I am giving this file to you, so imagine it as a file on hand. Download this file manually by clicking the following link: twitter_archive_enhanced.csv"
   ]
  },
  {
   "cell_type": "code",
   "execution_count": 2,
   "metadata": {},
   "outputs": [],
   "source": [
    "twitter_archive = pd.read_csv('twitter-archive-enhanced.csv')\n",
    "#Set index to tweet_id as it is appears to be the data's primary key\n",
    "twitter_archive.set_index('tweet_id', inplace = True)"
   ]
  },
  {
   "cell_type": "markdown",
   "metadata": {},
   "source": [
    "2. The tweet image predictions, i.e., what breed of dog (or other object, animal, etc.) is present in each tweet according to a neural network. This file (image_predictions.tsv) is hosted on Udacity's servers and should be downloaded programmatically using the Requests library and the following URL: https://d17h27t6h515a5.cloudfront.net/topher/2017/August/599fd2ad_image-predictions/image-predictions.tsv"
   ]
  },
  {
   "cell_type": "code",
   "execution_count": 3,
   "metadata": {},
   "outputs": [],
   "source": [
    "url = 'https://d17h27t6h515a5.cloudfront.net/topher/2017/August/599fd2ad_image-predictions/image-predictions.tsv'\n",
    "response = requests.get(url)\n",
    "#Save response with the same filename as in the URL\n",
    "#https://stackoverflow.com/questions/18727347/how-to-extract-a-filename-from-a-url-append-a-word-to-it\n",
    "with open(url.split('/')[-1], mode='wb') as file:\n",
    "    file.write(response.content)"
   ]
  },
  {
   "cell_type": "code",
   "execution_count": 4,
   "metadata": {},
   "outputs": [],
   "source": [
    "twitter_image_predictions = pd.read_csv('image-predictions.tsv', sep='\\t')\n",
    "#Set index to tweet_id as it is appears to be the data's primary key\n",
    "twitter_image_predictions.set_index('tweet_id', inplace = True)"
   ]
  },
  {
   "cell_type": "markdown",
   "metadata": {},
   "source": [
    "3. Each tweet's retweet count and favorite (\"like\") count at minimum, and any additional data you find interesting. Using the tweet IDs in the WeRateDogs Twitter archive, query the Twitter API for each tweet's JSON data using Python's Tweepy library and store each tweet's entire set of JSON data in a file called tweet_json.txt file. Each tweet's JSON data should be written to its own line. Then read this .txt file line by line into a pandas DataFrame with (at minimum) tweet ID, retweet count, and favorite count. Note: do not include your Twitter API keys, secrets, and tokens in your project submission."
   ]
  },
  {
   "cell_type": "markdown",
   "metadata": {},
   "source": [
    "twitter_api.py: This is the Twitter API code to gather some of the required data for the project. Read the code and comments, understand how the code works, then copy and paste it into your notebook."
   ]
  },
  {
   "cell_type": "code",
   "execution_count": 5,
   "metadata": {},
   "outputs": [],
   "source": [
    "#import tweepy\n",
    "#from tweepy import OAuthHandler\n",
    "#import json\n",
    "#from timeit import default_timer as timer\n",
    "#\n",
    "# Query Twitter API for each tweet in the Twitter archive and save JSON in a text file\n",
    "# These are hidden to comply with Twitter's API terms and conditions\n",
    "#consumer_key = 'HIDDEN'\n",
    "#consumer_secret = 'HIDDEN'\n",
    "#access_token = 'HIDDEN'\n",
    "#access_secret = 'HIDDEN'\n",
    "#\n",
    "#auth = OAuthHandler(consumer_key, consumer_secret)\n",
    "#auth.set_access_token(access_token, access_secret)\n",
    "#\n",
    "#api = tweepy.API(auth, wait_on_rate_limit=True)\n",
    "#\n",
    "# NOTE TO STUDENT WITH MOBILE VERIFICATION ISSUES:\n",
    "# df_1 is a DataFrame with the twitter_archive_enhanced.csv file. You may have to\n",
    "# change line 17 to match the name of your DataFrame with twitter_archive_enhanced.csv\n",
    "# NOTE TO REVIEWER: this student had mobile verification issues so the following\n",
    "# Twitter API code was sent to this student from a Udacity instructor\n",
    "# Tweet IDs for which to gather additional data via Twitter's API\n",
    "#tweet_ids = df_1.tweet_id.values\n",
    "#len(tweet_ids)\n",
    "#\n",
    "# Query Twitter's API for JSON data for each tweet ID in the Twitter archive\n",
    "#count = 0\n",
    "#fails_dict = {}\n",
    "#start = timer()\n",
    "# Save each tweet's returned JSON as a new line in a .txt file\n",
    "#with open('tweet_json.txt', 'w') as outfile:\n",
    "#    # This loop will likely take 20-30 minutes to run because of Twitter's rate limit\n",
    "#    for tweet_id in tweet_ids:\n",
    "#        count += 1\n",
    "#        print(str(count) + \": \" + str(tweet_id))\n",
    "#        try:\n",
    "#            tweet = api.get_status(tweet_id, tweet_mode='extended')\n",
    "#            print(\"Success\")\n",
    "#            json.dump(tweet._json, outfile)\n",
    "#            outfile.write('\\n')\n",
    "#        except tweepy.TweepError as e:\n",
    "#            print(\"Fail\")\n",
    "#            fails_dict[tweet_id] = e\n",
    "#            pass\n",
    "#end = timer()\n",
    "#print(end - start)\n",
    "#print(fails_dict)"
   ]
  },
  {
   "cell_type": "markdown",
   "metadata": {},
   "source": [
    "tweet_json.txt: This is the resulting data from twitter_api.py. You can proceed with the following part of \"Gathering Data for this Project\" on the Project Details page: \"Then read this tweet_json.txt file line by line into a pandas DataFrame with (at minimum) tweet ID, retweet count, and favorite count.\""
   ]
  },
  {
   "cell_type": "code",
   "execution_count": 6,
   "metadata": {},
   "outputs": [],
   "source": [
    "twitter_counts = pd.read_json('tweet-json.txt', lines=True)\n",
    "twitter_counts.set_index('id', inplace = True)\n",
    "twitter_counts.index.rename('tweet_id', inplace=True)\n",
    "twitter_counts = twitter_counts[['retweet_count', 'favorite_count']]"
   ]
  },
  {
   "cell_type": "markdown",
   "metadata": {},
   "source": [
    "## Assess"
   ]
  },
  {
   "cell_type": "markdown",
   "metadata": {},
   "source": [
    "You can assess data for:\n",
    "* Quality: issues with content. Low quality data is also known as dirty data.\n",
    "* Tidiness: issues with structure that prevent easy analysis. Untidy data is also known as messy data. Tidy data requirements:\n",
    " 1. Each variable forms a column.\n",
    " 2. Each observation forms a row.\n",
    " 3. Each type of observational unit forms a table.\n",
    "\n",
    "...using two types of assessment:\n",
    "* Visual assessment: scrolling through the data in your preferred software application (Google Sheets, Excel, a text editor, etc.).\n",
    "* Programmatic assessment: using code to view specific portions and summaries of the data (pandas' head, tail, and info methods, for example).\n",
    "\n",
    "https://cran.r-project.org/web/packages/tidyr/vignettes/tidy-data.html"
   ]
  },
  {
   "cell_type": "markdown",
   "metadata": {},
   "source": [
    "The six core data quality dimensions are (https://strategicdb.com/2017/10/27/six-dimensions-to-data-quality):\n",
    "* Completeness\n",
    "* Uniqueness\n",
    "* Timeliness\n",
    "* Validity\n",
    "* Accuracy\n",
    "* Consistency"
   ]
  },
  {
   "cell_type": "markdown",
   "metadata": {},
   "source": [
    "## Quality Checks"
   ]
  },
  {
   "cell_type": "markdown",
   "metadata": {},
   "source": [
    "### Visual Inspection"
   ]
  },
  {
   "cell_type": "code",
   "execution_count": 7,
   "metadata": {},
   "outputs": [
    {
     "data": {
      "text/html": [
       "<div>\n",
       "<style>\n",
       "    .dataframe thead tr:only-child th {\n",
       "        text-align: right;\n",
       "    }\n",
       "\n",
       "    .dataframe thead th {\n",
       "        text-align: left;\n",
       "    }\n",
       "\n",
       "    .dataframe tbody tr th {\n",
       "        vertical-align: top;\n",
       "    }\n",
       "</style>\n",
       "<table border=\"1\" class=\"dataframe\">\n",
       "  <thead>\n",
       "    <tr style=\"text-align: right;\">\n",
       "      <th></th>\n",
       "      <th>in_reply_to_status_id</th>\n",
       "      <th>in_reply_to_user_id</th>\n",
       "      <th>timestamp</th>\n",
       "      <th>source</th>\n",
       "      <th>text</th>\n",
       "      <th>retweeted_status_id</th>\n",
       "      <th>retweeted_status_user_id</th>\n",
       "      <th>retweeted_status_timestamp</th>\n",
       "      <th>expanded_urls</th>\n",
       "      <th>rating_numerator</th>\n",
       "      <th>rating_denominator</th>\n",
       "      <th>name</th>\n",
       "      <th>doggo</th>\n",
       "      <th>floofer</th>\n",
       "      <th>pupper</th>\n",
       "      <th>puppo</th>\n",
       "    </tr>\n",
       "    <tr>\n",
       "      <th>tweet_id</th>\n",
       "      <th></th>\n",
       "      <th></th>\n",
       "      <th></th>\n",
       "      <th></th>\n",
       "      <th></th>\n",
       "      <th></th>\n",
       "      <th></th>\n",
       "      <th></th>\n",
       "      <th></th>\n",
       "      <th></th>\n",
       "      <th></th>\n",
       "      <th></th>\n",
       "      <th></th>\n",
       "      <th></th>\n",
       "      <th></th>\n",
       "      <th></th>\n",
       "    </tr>\n",
       "  </thead>\n",
       "  <tbody>\n",
       "    <tr>\n",
       "      <th>892420643555336193</th>\n",
       "      <td>NaN</td>\n",
       "      <td>NaN</td>\n",
       "      <td>2017-08-01 16:23:56 +0000</td>\n",
       "      <td>&lt;a href=\"http://twitter.com/download/iphone\" r...</td>\n",
       "      <td>This is Phineas. He's a mystical boy. Only eve...</td>\n",
       "      <td>NaN</td>\n",
       "      <td>NaN</td>\n",
       "      <td>NaN</td>\n",
       "      <td>https://twitter.com/dog_rates/status/892420643...</td>\n",
       "      <td>13</td>\n",
       "      <td>10</td>\n",
       "      <td>Phineas</td>\n",
       "      <td>None</td>\n",
       "      <td>None</td>\n",
       "      <td>None</td>\n",
       "      <td>None</td>\n",
       "    </tr>\n",
       "    <tr>\n",
       "      <th>892177421306343426</th>\n",
       "      <td>NaN</td>\n",
       "      <td>NaN</td>\n",
       "      <td>2017-08-01 00:17:27 +0000</td>\n",
       "      <td>&lt;a href=\"http://twitter.com/download/iphone\" r...</td>\n",
       "      <td>This is Tilly. She's just checking pup on you....</td>\n",
       "      <td>NaN</td>\n",
       "      <td>NaN</td>\n",
       "      <td>NaN</td>\n",
       "      <td>https://twitter.com/dog_rates/status/892177421...</td>\n",
       "      <td>13</td>\n",
       "      <td>10</td>\n",
       "      <td>Tilly</td>\n",
       "      <td>None</td>\n",
       "      <td>None</td>\n",
       "      <td>None</td>\n",
       "      <td>None</td>\n",
       "    </tr>\n",
       "    <tr>\n",
       "      <th>891815181378084864</th>\n",
       "      <td>NaN</td>\n",
       "      <td>NaN</td>\n",
       "      <td>2017-07-31 00:18:03 +0000</td>\n",
       "      <td>&lt;a href=\"http://twitter.com/download/iphone\" r...</td>\n",
       "      <td>This is Archie. He is a rare Norwegian Pouncin...</td>\n",
       "      <td>NaN</td>\n",
       "      <td>NaN</td>\n",
       "      <td>NaN</td>\n",
       "      <td>https://twitter.com/dog_rates/status/891815181...</td>\n",
       "      <td>12</td>\n",
       "      <td>10</td>\n",
       "      <td>Archie</td>\n",
       "      <td>None</td>\n",
       "      <td>None</td>\n",
       "      <td>None</td>\n",
       "      <td>None</td>\n",
       "    </tr>\n",
       "    <tr>\n",
       "      <th>891689557279858688</th>\n",
       "      <td>NaN</td>\n",
       "      <td>NaN</td>\n",
       "      <td>2017-07-30 15:58:51 +0000</td>\n",
       "      <td>&lt;a href=\"http://twitter.com/download/iphone\" r...</td>\n",
       "      <td>This is Darla. She commenced a snooze mid meal...</td>\n",
       "      <td>NaN</td>\n",
       "      <td>NaN</td>\n",
       "      <td>NaN</td>\n",
       "      <td>https://twitter.com/dog_rates/status/891689557...</td>\n",
       "      <td>13</td>\n",
       "      <td>10</td>\n",
       "      <td>Darla</td>\n",
       "      <td>None</td>\n",
       "      <td>None</td>\n",
       "      <td>None</td>\n",
       "      <td>None</td>\n",
       "    </tr>\n",
       "    <tr>\n",
       "      <th>891327558926688256</th>\n",
       "      <td>NaN</td>\n",
       "      <td>NaN</td>\n",
       "      <td>2017-07-29 16:00:24 +0000</td>\n",
       "      <td>&lt;a href=\"http://twitter.com/download/iphone\" r...</td>\n",
       "      <td>This is Franklin. He would like you to stop ca...</td>\n",
       "      <td>NaN</td>\n",
       "      <td>NaN</td>\n",
       "      <td>NaN</td>\n",
       "      <td>https://twitter.com/dog_rates/status/891327558...</td>\n",
       "      <td>12</td>\n",
       "      <td>10</td>\n",
       "      <td>Franklin</td>\n",
       "      <td>None</td>\n",
       "      <td>None</td>\n",
       "      <td>None</td>\n",
       "      <td>None</td>\n",
       "    </tr>\n",
       "  </tbody>\n",
       "</table>\n",
       "</div>"
      ],
      "text/plain": [
       "                    in_reply_to_status_id  in_reply_to_user_id  \\\n",
       "tweet_id                                                         \n",
       "892420643555336193                    NaN                  NaN   \n",
       "892177421306343426                    NaN                  NaN   \n",
       "891815181378084864                    NaN                  NaN   \n",
       "891689557279858688                    NaN                  NaN   \n",
       "891327558926688256                    NaN                  NaN   \n",
       "\n",
       "                                    timestamp  \\\n",
       "tweet_id                                        \n",
       "892420643555336193  2017-08-01 16:23:56 +0000   \n",
       "892177421306343426  2017-08-01 00:17:27 +0000   \n",
       "891815181378084864  2017-07-31 00:18:03 +0000   \n",
       "891689557279858688  2017-07-30 15:58:51 +0000   \n",
       "891327558926688256  2017-07-29 16:00:24 +0000   \n",
       "\n",
       "                                                               source  \\\n",
       "tweet_id                                                                \n",
       "892420643555336193  <a href=\"http://twitter.com/download/iphone\" r...   \n",
       "892177421306343426  <a href=\"http://twitter.com/download/iphone\" r...   \n",
       "891815181378084864  <a href=\"http://twitter.com/download/iphone\" r...   \n",
       "891689557279858688  <a href=\"http://twitter.com/download/iphone\" r...   \n",
       "891327558926688256  <a href=\"http://twitter.com/download/iphone\" r...   \n",
       "\n",
       "                                                                 text  \\\n",
       "tweet_id                                                                \n",
       "892420643555336193  This is Phineas. He's a mystical boy. Only eve...   \n",
       "892177421306343426  This is Tilly. She's just checking pup on you....   \n",
       "891815181378084864  This is Archie. He is a rare Norwegian Pouncin...   \n",
       "891689557279858688  This is Darla. She commenced a snooze mid meal...   \n",
       "891327558926688256  This is Franklin. He would like you to stop ca...   \n",
       "\n",
       "                    retweeted_status_id  retweeted_status_user_id  \\\n",
       "tweet_id                                                            \n",
       "892420643555336193                  NaN                       NaN   \n",
       "892177421306343426                  NaN                       NaN   \n",
       "891815181378084864                  NaN                       NaN   \n",
       "891689557279858688                  NaN                       NaN   \n",
       "891327558926688256                  NaN                       NaN   \n",
       "\n",
       "                   retweeted_status_timestamp  \\\n",
       "tweet_id                                        \n",
       "892420643555336193                        NaN   \n",
       "892177421306343426                        NaN   \n",
       "891815181378084864                        NaN   \n",
       "891689557279858688                        NaN   \n",
       "891327558926688256                        NaN   \n",
       "\n",
       "                                                        expanded_urls  \\\n",
       "tweet_id                                                                \n",
       "892420643555336193  https://twitter.com/dog_rates/status/892420643...   \n",
       "892177421306343426  https://twitter.com/dog_rates/status/892177421...   \n",
       "891815181378084864  https://twitter.com/dog_rates/status/891815181...   \n",
       "891689557279858688  https://twitter.com/dog_rates/status/891689557...   \n",
       "891327558926688256  https://twitter.com/dog_rates/status/891327558...   \n",
       "\n",
       "                    rating_numerator  rating_denominator      name doggo  \\\n",
       "tweet_id                                                                   \n",
       "892420643555336193                13                  10   Phineas  None   \n",
       "892177421306343426                13                  10     Tilly  None   \n",
       "891815181378084864                12                  10    Archie  None   \n",
       "891689557279858688                13                  10     Darla  None   \n",
       "891327558926688256                12                  10  Franklin  None   \n",
       "\n",
       "                   floofer pupper puppo  \n",
       "tweet_id                                 \n",
       "892420643555336193    None   None  None  \n",
       "892177421306343426    None   None  None  \n",
       "891815181378084864    None   None  None  \n",
       "891689557279858688    None   None  None  \n",
       "891327558926688256    None   None  None  "
      ]
     },
     "execution_count": 7,
     "metadata": {},
     "output_type": "execute_result"
    }
   ],
   "source": [
    "twitter_archive.head()"
   ]
  },
  {
   "cell_type": "code",
   "execution_count": 8,
   "metadata": {},
   "outputs": [
    {
     "data": {
      "text/html": [
       "<div>\n",
       "<style>\n",
       "    .dataframe thead tr:only-child th {\n",
       "        text-align: right;\n",
       "    }\n",
       "\n",
       "    .dataframe thead th {\n",
       "        text-align: left;\n",
       "    }\n",
       "\n",
       "    .dataframe tbody tr th {\n",
       "        vertical-align: top;\n",
       "    }\n",
       "</style>\n",
       "<table border=\"1\" class=\"dataframe\">\n",
       "  <thead>\n",
       "    <tr style=\"text-align: right;\">\n",
       "      <th></th>\n",
       "      <th>jpg_url</th>\n",
       "      <th>img_num</th>\n",
       "      <th>p1</th>\n",
       "      <th>p1_conf</th>\n",
       "      <th>p1_dog</th>\n",
       "      <th>p2</th>\n",
       "      <th>p2_conf</th>\n",
       "      <th>p2_dog</th>\n",
       "      <th>p3</th>\n",
       "      <th>p3_conf</th>\n",
       "      <th>p3_dog</th>\n",
       "    </tr>\n",
       "    <tr>\n",
       "      <th>tweet_id</th>\n",
       "      <th></th>\n",
       "      <th></th>\n",
       "      <th></th>\n",
       "      <th></th>\n",
       "      <th></th>\n",
       "      <th></th>\n",
       "      <th></th>\n",
       "      <th></th>\n",
       "      <th></th>\n",
       "      <th></th>\n",
       "      <th></th>\n",
       "    </tr>\n",
       "  </thead>\n",
       "  <tbody>\n",
       "    <tr>\n",
       "      <th>666020888022790149</th>\n",
       "      <td>https://pbs.twimg.com/media/CT4udn0WwAA0aMy.jpg</td>\n",
       "      <td>1</td>\n",
       "      <td>Welsh_springer_spaniel</td>\n",
       "      <td>0.465074</td>\n",
       "      <td>True</td>\n",
       "      <td>collie</td>\n",
       "      <td>0.156665</td>\n",
       "      <td>True</td>\n",
       "      <td>Shetland_sheepdog</td>\n",
       "      <td>0.061428</td>\n",
       "      <td>True</td>\n",
       "    </tr>\n",
       "    <tr>\n",
       "      <th>666029285002620928</th>\n",
       "      <td>https://pbs.twimg.com/media/CT42GRgUYAA5iDo.jpg</td>\n",
       "      <td>1</td>\n",
       "      <td>redbone</td>\n",
       "      <td>0.506826</td>\n",
       "      <td>True</td>\n",
       "      <td>miniature_pinscher</td>\n",
       "      <td>0.074192</td>\n",
       "      <td>True</td>\n",
       "      <td>Rhodesian_ridgeback</td>\n",
       "      <td>0.072010</td>\n",
       "      <td>True</td>\n",
       "    </tr>\n",
       "    <tr>\n",
       "      <th>666033412701032449</th>\n",
       "      <td>https://pbs.twimg.com/media/CT4521TWwAEvMyu.jpg</td>\n",
       "      <td>1</td>\n",
       "      <td>German_shepherd</td>\n",
       "      <td>0.596461</td>\n",
       "      <td>True</td>\n",
       "      <td>malinois</td>\n",
       "      <td>0.138584</td>\n",
       "      <td>True</td>\n",
       "      <td>bloodhound</td>\n",
       "      <td>0.116197</td>\n",
       "      <td>True</td>\n",
       "    </tr>\n",
       "    <tr>\n",
       "      <th>666044226329800704</th>\n",
       "      <td>https://pbs.twimg.com/media/CT5Dr8HUEAA-lEu.jpg</td>\n",
       "      <td>1</td>\n",
       "      <td>Rhodesian_ridgeback</td>\n",
       "      <td>0.408143</td>\n",
       "      <td>True</td>\n",
       "      <td>redbone</td>\n",
       "      <td>0.360687</td>\n",
       "      <td>True</td>\n",
       "      <td>miniature_pinscher</td>\n",
       "      <td>0.222752</td>\n",
       "      <td>True</td>\n",
       "    </tr>\n",
       "    <tr>\n",
       "      <th>666049248165822465</th>\n",
       "      <td>https://pbs.twimg.com/media/CT5IQmsXIAAKY4A.jpg</td>\n",
       "      <td>1</td>\n",
       "      <td>miniature_pinscher</td>\n",
       "      <td>0.560311</td>\n",
       "      <td>True</td>\n",
       "      <td>Rottweiler</td>\n",
       "      <td>0.243682</td>\n",
       "      <td>True</td>\n",
       "      <td>Doberman</td>\n",
       "      <td>0.154629</td>\n",
       "      <td>True</td>\n",
       "    </tr>\n",
       "  </tbody>\n",
       "</table>\n",
       "</div>"
      ],
      "text/plain": [
       "                                                            jpg_url  img_num  \\\n",
       "tweet_id                                                                       \n",
       "666020888022790149  https://pbs.twimg.com/media/CT4udn0WwAA0aMy.jpg        1   \n",
       "666029285002620928  https://pbs.twimg.com/media/CT42GRgUYAA5iDo.jpg        1   \n",
       "666033412701032449  https://pbs.twimg.com/media/CT4521TWwAEvMyu.jpg        1   \n",
       "666044226329800704  https://pbs.twimg.com/media/CT5Dr8HUEAA-lEu.jpg        1   \n",
       "666049248165822465  https://pbs.twimg.com/media/CT5IQmsXIAAKY4A.jpg        1   \n",
       "\n",
       "                                        p1   p1_conf  p1_dog  \\\n",
       "tweet_id                                                       \n",
       "666020888022790149  Welsh_springer_spaniel  0.465074    True   \n",
       "666029285002620928                 redbone  0.506826    True   \n",
       "666033412701032449         German_shepherd  0.596461    True   \n",
       "666044226329800704     Rhodesian_ridgeback  0.408143    True   \n",
       "666049248165822465      miniature_pinscher  0.560311    True   \n",
       "\n",
       "                                    p2   p2_conf  p2_dog                   p3  \\\n",
       "tweet_id                                                                        \n",
       "666020888022790149              collie  0.156665    True    Shetland_sheepdog   \n",
       "666029285002620928  miniature_pinscher  0.074192    True  Rhodesian_ridgeback   \n",
       "666033412701032449            malinois  0.138584    True           bloodhound   \n",
       "666044226329800704             redbone  0.360687    True   miniature_pinscher   \n",
       "666049248165822465          Rottweiler  0.243682    True             Doberman   \n",
       "\n",
       "                     p3_conf  p3_dog  \n",
       "tweet_id                              \n",
       "666020888022790149  0.061428    True  \n",
       "666029285002620928  0.072010    True  \n",
       "666033412701032449  0.116197    True  \n",
       "666044226329800704  0.222752    True  \n",
       "666049248165822465  0.154629    True  "
      ]
     },
     "execution_count": 8,
     "metadata": {},
     "output_type": "execute_result"
    }
   ],
   "source": [
    "twitter_image_predictions.head()"
   ]
  },
  {
   "cell_type": "code",
   "execution_count": 9,
   "metadata": {},
   "outputs": [
    {
     "data": {
      "text/html": [
       "<div>\n",
       "<style>\n",
       "    .dataframe thead tr:only-child th {\n",
       "        text-align: right;\n",
       "    }\n",
       "\n",
       "    .dataframe thead th {\n",
       "        text-align: left;\n",
       "    }\n",
       "\n",
       "    .dataframe tbody tr th {\n",
       "        vertical-align: top;\n",
       "    }\n",
       "</style>\n",
       "<table border=\"1\" class=\"dataframe\">\n",
       "  <thead>\n",
       "    <tr style=\"text-align: right;\">\n",
       "      <th></th>\n",
       "      <th>retweet_count</th>\n",
       "      <th>favorite_count</th>\n",
       "    </tr>\n",
       "    <tr>\n",
       "      <th>tweet_id</th>\n",
       "      <th></th>\n",
       "      <th></th>\n",
       "    </tr>\n",
       "  </thead>\n",
       "  <tbody>\n",
       "    <tr>\n",
       "      <th>892420643555336193</th>\n",
       "      <td>8853</td>\n",
       "      <td>39467</td>\n",
       "    </tr>\n",
       "    <tr>\n",
       "      <th>892177421306343426</th>\n",
       "      <td>6514</td>\n",
       "      <td>33819</td>\n",
       "    </tr>\n",
       "    <tr>\n",
       "      <th>891815181378084864</th>\n",
       "      <td>4328</td>\n",
       "      <td>25461</td>\n",
       "    </tr>\n",
       "    <tr>\n",
       "      <th>891689557279858688</th>\n",
       "      <td>8964</td>\n",
       "      <td>42908</td>\n",
       "    </tr>\n",
       "    <tr>\n",
       "      <th>891327558926688256</th>\n",
       "      <td>9774</td>\n",
       "      <td>41048</td>\n",
       "    </tr>\n",
       "  </tbody>\n",
       "</table>\n",
       "</div>"
      ],
      "text/plain": [
       "                    retweet_count  favorite_count\n",
       "tweet_id                                         \n",
       "892420643555336193           8853           39467\n",
       "892177421306343426           6514           33819\n",
       "891815181378084864           4328           25461\n",
       "891689557279858688           8964           42908\n",
       "891327558926688256           9774           41048"
      ]
     },
     "execution_count": 9,
     "metadata": {},
     "output_type": "execute_result"
    }
   ],
   "source": [
    "twitter_counts.head()"
   ]
  },
  {
   "cell_type": "code",
   "execution_count": 10,
   "metadata": {},
   "outputs": [
    {
     "name": "stdout",
     "output_type": "stream",
     "text": [
      "<class 'pandas.core.frame.DataFrame'>\n",
      "Int64Index: 2356 entries, 892420643555336193 to 666020888022790149\n",
      "Data columns (total 16 columns):\n",
      "in_reply_to_status_id         78 non-null float64\n",
      "in_reply_to_user_id           78 non-null float64\n",
      "timestamp                     2356 non-null object\n",
      "source                        2356 non-null object\n",
      "text                          2356 non-null object\n",
      "retweeted_status_id           181 non-null float64\n",
      "retweeted_status_user_id      181 non-null float64\n",
      "retweeted_status_timestamp    181 non-null object\n",
      "expanded_urls                 2297 non-null object\n",
      "rating_numerator              2356 non-null int64\n",
      "rating_denominator            2356 non-null int64\n",
      "name                          2356 non-null object\n",
      "doggo                         2356 non-null object\n",
      "floofer                       2356 non-null object\n",
      "pupper                        2356 non-null object\n",
      "puppo                         2356 non-null object\n",
      "dtypes: float64(4), int64(2), object(10)\n",
      "memory usage: 312.9+ KB\n"
     ]
    }
   ],
   "source": [
    "twitter_archive.info()"
   ]
  },
  {
   "cell_type": "code",
   "execution_count": 11,
   "metadata": {},
   "outputs": [
    {
     "data": {
      "text/plain": [
       "59"
      ]
     },
     "execution_count": 11,
     "metadata": {},
     "output_type": "execute_result"
    }
   ],
   "source": [
    "twitter_archive.expanded_urls.isnull().sum()"
   ]
  },
  {
   "cell_type": "markdown",
   "metadata": {},
   "source": [
    "* **Quality Issue [Visual Inspection]**: There are 59 NULL values in expanded_urls. We need this for joining to our prediction file."
   ]
  },
  {
   "cell_type": "markdown",
   "metadata": {},
   "source": [
    "### Completeness\n",
    " * Check length of each of the three datasets."
   ]
  },
  {
   "cell_type": "code",
   "execution_count": 12,
   "metadata": {},
   "outputs": [
    {
     "data": {
      "text/plain": [
       "(2075, 2073, 2354)"
      ]
     },
     "execution_count": 12,
     "metadata": {},
     "output_type": "execute_result"
    }
   ],
   "source": [
    "twitter_image_predictions.index.isin(twitter_archive.index).sum(), \\\n",
    "twitter_image_predictions.index.isin(twitter_counts.index).sum(), \\\n",
    "twitter_archive.index.isin(twitter_counts.index).sum()"
   ]
  },
  {
   "cell_type": "markdown",
   "metadata": {},
   "source": [
    "> * It appears that twitter_image_predictions contains a subset of the data in twitter_archive & twitter_counts.\n",
    "> * We should check to see if all records of twitter_image_predictions is contained in the other two datasets."
   ]
  },
  {
   "cell_type": "markdown",
   "metadata": {},
   "source": [
    "**Quality Issue [Completeness]**: From the completeness analysis, we will only be able to join all three datasets on 2073 tweet_ids.\n",
    " "
   ]
  },
  {
   "cell_type": "markdown",
   "metadata": {},
   "source": [
    "### Uniqueness"
   ]
  },
  {
   "cell_type": "markdown",
   "metadata": {},
   "source": [
    "* Check for duplicated tweet_ids."
   ]
  },
  {
   "cell_type": "code",
   "execution_count": 13,
   "metadata": {},
   "outputs": [
    {
     "data": {
      "text/plain": [
       "(0, 0, 0)"
      ]
     },
     "execution_count": 13,
     "metadata": {},
     "output_type": "execute_result"
    }
   ],
   "source": [
    "twitter_archive.index.duplicated().sum(), \\\n",
    "twitter_image_predictions.index.duplicated().sum(), \\\n",
    "twitter_counts.index.duplicated().sum()"
   ]
  },
  {
   "cell_type": "markdown",
   "metadata": {},
   "source": [
    "> * No duplicatd tweet_ids in any datasets."
   ]
  },
  {
   "cell_type": "code",
   "execution_count": 14,
   "metadata": {},
   "outputs": [
    {
     "data": {
      "text/plain": [
       "66"
      ]
     },
     "execution_count": 14,
     "metadata": {},
     "output_type": "execute_result"
    }
   ],
   "source": [
    "twitter_image_predictions.jpg_url.duplicated().sum()"
   ]
  },
  {
   "cell_type": "markdown",
   "metadata": {},
   "source": [
    "**Quality Issue [Uniqueness]**: From the uniqueness analysis, 66 of the images in twitter_image_predictions are duplicated.\n"
   ]
  },
  {
   "cell_type": "markdown",
   "metadata": {},
   "source": [
    "### Timeliness"
   ]
  },
  {
   "cell_type": "markdown",
   "metadata": {},
   "source": [
    " * Check that datetime is stored as the right data type."
   ]
  },
  {
   "cell_type": "code",
   "execution_count": 15,
   "metadata": {},
   "outputs": [
    {
     "data": {
      "text/plain": [
       "(dtype('O'), dtype('O'))"
      ]
     },
     "execution_count": 15,
     "metadata": {},
     "output_type": "execute_result"
    }
   ],
   "source": [
    "twitter_archive.timestamp.dtype, \\\n",
    "twitter_archive.retweeted_status_timestamp.dtype"
   ]
  },
  {
   "cell_type": "markdown",
   "metadata": {},
   "source": [
    "**Quality Issue [Timeliness]**: timestamp is stored as object instead of datetime.\n",
    "\n",
    "**Quality Issue [Timeliness]**: retweeted_status_timestamp is stored as object instead of datetime."
   ]
  },
  {
   "cell_type": "markdown",
   "metadata": {},
   "source": [
    "### Validity"
   ]
  },
  {
   "cell_type": "markdown",
   "metadata": {},
   "source": [
    " * Check if denominator is 0 for any values."
   ]
  },
  {
   "cell_type": "code",
   "execution_count": 16,
   "metadata": {},
   "outputs": [
    {
     "data": {
      "text/plain": [
       "1"
      ]
     },
     "execution_count": 16,
     "metadata": {},
     "output_type": "execute_result"
    }
   ],
   "source": [
    "len(twitter_archive[twitter_archive.rating_denominator == 0])"
   ]
  },
  {
   "cell_type": "code",
   "execution_count": 17,
   "metadata": {},
   "outputs": [
    {
     "data": {
      "text/html": [
       "<div>\n",
       "<style>\n",
       "    .dataframe thead tr:only-child th {\n",
       "        text-align: right;\n",
       "    }\n",
       "\n",
       "    .dataframe thead th {\n",
       "        text-align: left;\n",
       "    }\n",
       "\n",
       "    .dataframe tbody tr th {\n",
       "        vertical-align: top;\n",
       "    }\n",
       "</style>\n",
       "<table border=\"1\" class=\"dataframe\">\n",
       "  <thead>\n",
       "    <tr style=\"text-align: right;\">\n",
       "      <th></th>\n",
       "      <th>in_reply_to_status_id</th>\n",
       "      <th>in_reply_to_user_id</th>\n",
       "      <th>timestamp</th>\n",
       "      <th>source</th>\n",
       "      <th>text</th>\n",
       "      <th>retweeted_status_id</th>\n",
       "      <th>retweeted_status_user_id</th>\n",
       "      <th>retweeted_status_timestamp</th>\n",
       "      <th>expanded_urls</th>\n",
       "      <th>rating_numerator</th>\n",
       "      <th>rating_denominator</th>\n",
       "      <th>name</th>\n",
       "      <th>doggo</th>\n",
       "      <th>floofer</th>\n",
       "      <th>pupper</th>\n",
       "      <th>puppo</th>\n",
       "    </tr>\n",
       "    <tr>\n",
       "      <th>tweet_id</th>\n",
       "      <th></th>\n",
       "      <th></th>\n",
       "      <th></th>\n",
       "      <th></th>\n",
       "      <th></th>\n",
       "      <th></th>\n",
       "      <th></th>\n",
       "      <th></th>\n",
       "      <th></th>\n",
       "      <th></th>\n",
       "      <th></th>\n",
       "      <th></th>\n",
       "      <th></th>\n",
       "      <th></th>\n",
       "      <th></th>\n",
       "      <th></th>\n",
       "    </tr>\n",
       "  </thead>\n",
       "  <tbody>\n",
       "    <tr>\n",
       "      <th>835246439529840640</th>\n",
       "      <td>8.352460e+17</td>\n",
       "      <td>26259576.0</td>\n",
       "      <td>2017-02-24 21:54:03 +0000</td>\n",
       "      <td>&lt;a href=\"http://twitter.com/download/iphone\" r...</td>\n",
       "      <td>@jonnysun @Lin_Manuel ok jomny I know you're e...</td>\n",
       "      <td>NaN</td>\n",
       "      <td>NaN</td>\n",
       "      <td>NaN</td>\n",
       "      <td>NaN</td>\n",
       "      <td>960</td>\n",
       "      <td>0</td>\n",
       "      <td>None</td>\n",
       "      <td>None</td>\n",
       "      <td>None</td>\n",
       "      <td>None</td>\n",
       "      <td>None</td>\n",
       "    </tr>\n",
       "  </tbody>\n",
       "</table>\n",
       "</div>"
      ],
      "text/plain": [
       "                    in_reply_to_status_id  in_reply_to_user_id  \\\n",
       "tweet_id                                                         \n",
       "835246439529840640           8.352460e+17           26259576.0   \n",
       "\n",
       "                                    timestamp  \\\n",
       "tweet_id                                        \n",
       "835246439529840640  2017-02-24 21:54:03 +0000   \n",
       "\n",
       "                                                               source  \\\n",
       "tweet_id                                                                \n",
       "835246439529840640  <a href=\"http://twitter.com/download/iphone\" r...   \n",
       "\n",
       "                                                                 text  \\\n",
       "tweet_id                                                                \n",
       "835246439529840640  @jonnysun @Lin_Manuel ok jomny I know you're e...   \n",
       "\n",
       "                    retweeted_status_id  retweeted_status_user_id  \\\n",
       "tweet_id                                                            \n",
       "835246439529840640                  NaN                       NaN   \n",
       "\n",
       "                   retweeted_status_timestamp expanded_urls  rating_numerator  \\\n",
       "tweet_id                                                                        \n",
       "835246439529840640                        NaN           NaN               960   \n",
       "\n",
       "                    rating_denominator  name doggo floofer pupper puppo  \n",
       "tweet_id                                                                 \n",
       "835246439529840640                   0  None  None    None   None  None  "
      ]
     },
     "execution_count": 17,
     "metadata": {},
     "output_type": "execute_result"
    }
   ],
   "source": [
    "twitter_archive[twitter_archive.rating_denominator == 0]"
   ]
  },
  {
   "cell_type": "markdown",
   "metadata": {},
   "source": [
    "**Quality Issue [Validity]**: There is one tweet with a denominator of '0'."
   ]
  },
  {
   "cell_type": "markdown",
   "metadata": {},
   "source": [
    " * We only want original tweets, check if data contains any retweets."
   ]
  },
  {
   "cell_type": "code",
   "execution_count": 18,
   "metadata": {},
   "outputs": [
    {
     "data": {
      "text/plain": [
       "181"
      ]
     },
     "execution_count": 18,
     "metadata": {},
     "output_type": "execute_result"
    }
   ],
   "source": [
    "twitter_archive.retweeted_status_id.notnull().sum()"
   ]
  },
  {
   "cell_type": "markdown",
   "metadata": {},
   "source": [
    "**Quality Issue [Validity]**: There are 181 tweets that are retweets."
   ]
  },
  {
   "cell_type": "markdown",
   "metadata": {},
   "source": [
    " * Visually inspect top 10 data value_counts"
   ]
  },
  {
   "cell_type": "code",
   "execution_count": 19,
   "metadata": {},
   "outputs": [
    {
     "data": {
      "text/plain": [
       "<a href=\"http://twitter.com/download/iphone\" rel=\"nofollow\">Twitter for iPhone</a>     2221\n",
       "<a href=\"http://vine.co\" rel=\"nofollow\">Vine - Make a Scene</a>                          91\n",
       "<a href=\"http://twitter.com\" rel=\"nofollow\">Twitter Web Client</a>                       33\n",
       "<a href=\"https://about.twitter.com/products/tweetdeck\" rel=\"nofollow\">TweetDeck</a>      11\n",
       "Name: source, dtype: int64"
      ]
     },
     "execution_count": 19,
     "metadata": {},
     "output_type": "execute_result"
    }
   ],
   "source": [
    "twitter_archive.source.value_counts().head(10)"
   ]
  },
  {
   "cell_type": "markdown",
   "metadata": {},
   "source": [
    ">* No issues with source, but appearance could be cleaned up to remove HTML tags."
   ]
  },
  {
   "cell_type": "code",
   "execution_count": 20,
   "metadata": {},
   "outputs": [
    {
     "data": {
      "text/plain": [
       "Happy New Year from the squad! 13/10 for all https://t.co/9njRxyUd5L                                                                                                    1\n",
       "\"Fuck the system\" 10/10 https://t.co/N0OADmCnVV                                                                                                                         1\n",
       "This is Mary. She's desperately trying to recreate her Coachella experience.   12/10 downright h*ckin adorable https://t.co/BAJrfPvtux                                  1\n",
       "This is Phil. He's a father. A very good father too. 13/10 everybody loves Phil https://t.co/9p6ECXJMMu                                                                 1\n",
       "This is one of the most inspirational stories I've ever come across. I have no words. 14/10 for both doggo and owner https://t.co/I5ld3eKD5k                            1\n",
       "Seriously, add us 🐶 11/10 for sad wet pupper https://t.co/xwPE9faVZR                                                                                                    1\n",
       "Pink dogs here. Unreasonably long necks. Left guy has only 1 leg. Quite nimble. Don't bark tho 4/10s would still pet https://t.co/QY5uvMmmQk                            1\n",
       "This is Iggy. He was a rescue dog killed in the Stockholm attack. His memorial started with a collar and four bones. It's grown a bit. 14/10 https://t.co/E4a0R9my1M    1\n",
       "This is Jiminy. He has always wanted to be a cheerleader. Can jump high enough to get on other dog. Go Jiminy. 9/10 https://t.co/fW6kIPFGD2                             1\n",
       "This is Solomon. He's a Beneroo Cumberflop. 12/10 would hug passionately https://t.co/5phLAnGPTP                                                                        1\n",
       "Name: text, dtype: int64"
      ]
     },
     "execution_count": 20,
     "metadata": {},
     "output_type": "execute_result"
    }
   ],
   "source": [
    "twitter_archive.text.value_counts().head(10)"
   ]
  },
  {
   "cell_type": "markdown",
   "metadata": {},
   "source": [
    ">* No issues with text"
   ]
  },
  {
   "cell_type": "code",
   "execution_count": 21,
   "metadata": {},
   "outputs": [
    {
     "data": {
      "text/plain": [
       "66"
      ]
     },
     "execution_count": 21,
     "metadata": {},
     "output_type": "execute_result"
    }
   ],
   "source": [
    "len(twitter_image_predictions[twitter_image_predictions.jpg_url.duplicated()])"
   ]
  },
  {
   "cell_type": "markdown",
   "metadata": {},
   "source": [
    "**Quality Issue [Validity]**: Duplicate data, there are 66 instances of the same photo(s) being predicted."
   ]
  },
  {
   "cell_type": "code",
   "execution_count": 22,
   "metadata": {},
   "outputs": [
    {
     "data": {
      "text/plain": [
       "639"
      ]
     },
     "execution_count": 22,
     "metadata": {},
     "output_type": "execute_result"
    }
   ],
   "source": [
    "#twitter_archive[twitter_archive.expanded_urls.str.contains(',', na=False)]\n",
    "twitter_archive.expanded_urls.str.contains(',', na=False).sum()"
   ]
  },
  {
   "cell_type": "markdown",
   "metadata": {},
   "source": [
    ">* There are 639 instances of more than one URL (picture) in the URL field."
   ]
  },
  {
   "cell_type": "code",
   "execution_count": 23,
   "metadata": {},
   "outputs": [
    {
     "data": {
      "text/plain": [
       "None       745\n",
       "a           55\n",
       "Charlie     12\n",
       "Oliver      11\n",
       "Cooper      11\n",
       "Lucy        11\n",
       "Lola        10\n",
       "Tucker      10\n",
       "Penny       10\n",
       "Winston      9\n",
       "Name: name, dtype: int64"
      ]
     },
     "execution_count": 23,
     "metadata": {},
     "output_type": "execute_result"
    }
   ],
   "source": [
    "twitter_archive.name.value_counts().head(10)"
   ]
  },
  {
   "cell_type": "code",
   "execution_count": 24,
   "metadata": {},
   "outputs": [
    {
     "data": {
      "text/plain": [
       "array(['such', 'a', 'quite', 'not', 'one', 'incredibly', 'mad', 'an',\n",
       "       'very', 'just', 'my', 'his', 'actually', 'getting', 'this',\n",
       "       'unacceptable', 'all', 'old', 'infuriating', 'the', 'by',\n",
       "       'officially', 'life', 'light', 'space'], dtype=object)"
      ]
     },
     "execution_count": 24,
     "metadata": {},
     "output_type": "execute_result"
    }
   ],
   "source": [
    "twitter_archive.name[twitter_archive.name.str.islower()].unique()"
   ]
  },
  {
   "cell_type": "markdown",
   "metadata": {},
   "source": [
    "**Quality Issue 8 [Validity]**: Instances of invalid dog names (see above for examples)."
   ]
  },
  {
   "cell_type": "code",
   "execution_count": 25,
   "metadata": {},
   "outputs": [
    {
     "data": {
      "text/plain": [
       "None     2259\n",
       "doggo      97\n",
       "Name: doggo, dtype: int64"
      ]
     },
     "execution_count": 25,
     "metadata": {},
     "output_type": "execute_result"
    }
   ],
   "source": [
    "twitter_archive.doggo.value_counts().head(10)"
   ]
  },
  {
   "cell_type": "code",
   "execution_count": 26,
   "metadata": {},
   "outputs": [
    {
     "data": {
      "text/plain": [
       "None       2346\n",
       "floofer      10\n",
       "Name: floofer, dtype: int64"
      ]
     },
     "execution_count": 26,
     "metadata": {},
     "output_type": "execute_result"
    }
   ],
   "source": [
    "twitter_archive.floofer.value_counts().head(10)"
   ]
  },
  {
   "cell_type": "code",
   "execution_count": 27,
   "metadata": {},
   "outputs": [
    {
     "data": {
      "text/plain": [
       "None      2099\n",
       "pupper     257\n",
       "Name: pupper, dtype: int64"
      ]
     },
     "execution_count": 27,
     "metadata": {},
     "output_type": "execute_result"
    }
   ],
   "source": [
    "twitter_archive.pupper.value_counts().head(10)"
   ]
  },
  {
   "cell_type": "code",
   "execution_count": 28,
   "metadata": {},
   "outputs": [
    {
     "data": {
      "text/plain": [
       "None     2326\n",
       "puppo      30\n",
       "Name: puppo, dtype: int64"
      ]
     },
     "execution_count": 28,
     "metadata": {},
     "output_type": "execute_result"
    }
   ],
   "source": [
    "twitter_archive.puppo.value_counts().head(10)"
   ]
  },
  {
   "cell_type": "markdown",
   "metadata": {},
   "source": [
    "**Quality Issue 9 [Validity]**: Dog \"stage\" has string 'None' instead of NULL (doggo, floofer, pupper, puppo)."
   ]
  },
  {
   "cell_type": "markdown",
   "metadata": {},
   "source": [
    "## Tidiness Checks"
   ]
  },
  {
   "cell_type": "code",
   "execution_count": 29,
   "metadata": {},
   "outputs": [
    {
     "name": "stdout",
     "output_type": "stream",
     "text": [
      "<class 'pandas.core.frame.DataFrame'>\n",
      "Int64Index: 2356 entries, 892420643555336193 to 666020888022790149\n",
      "Data columns (total 16 columns):\n",
      "in_reply_to_status_id         78 non-null float64\n",
      "in_reply_to_user_id           78 non-null float64\n",
      "timestamp                     2356 non-null object\n",
      "source                        2356 non-null object\n",
      "text                          2356 non-null object\n",
      "retweeted_status_id           181 non-null float64\n",
      "retweeted_status_user_id      181 non-null float64\n",
      "retweeted_status_timestamp    181 non-null object\n",
      "expanded_urls                 2297 non-null object\n",
      "rating_numerator              2356 non-null int64\n",
      "rating_denominator            2356 non-null int64\n",
      "name                          2356 non-null object\n",
      "doggo                         2356 non-null object\n",
      "floofer                       2356 non-null object\n",
      "pupper                        2356 non-null object\n",
      "puppo                         2356 non-null object\n",
      "dtypes: float64(4), int64(2), object(10)\n",
      "memory usage: 392.9+ KB\n"
     ]
    }
   ],
   "source": [
    "twitter_archive.info()"
   ]
  },
  {
   "cell_type": "markdown",
   "metadata": {},
   "source": [
    "**Tidiness Issue 1**: The dog 'stages' should be one column with values of 'None', 'doggo', 'floofer', 'pupper', 'puppo'."
   ]
  },
  {
   "cell_type": "markdown",
   "metadata": {},
   "source": [
    "**Tidiness Issue 2**: Remove replies and retweets, we only want original tweets."
   ]
  },
  {
   "cell_type": "code",
   "execution_count": 30,
   "metadata": {},
   "outputs": [
    {
     "name": "stdout",
     "output_type": "stream",
     "text": [
      "<class 'pandas.core.frame.DataFrame'>\n",
      "Int64Index: 2075 entries, 666020888022790149 to 892420643555336193\n",
      "Data columns (total 11 columns):\n",
      "jpg_url    2075 non-null object\n",
      "img_num    2075 non-null int64\n",
      "p1         2075 non-null object\n",
      "p1_conf    2075 non-null float64\n",
      "p1_dog     2075 non-null bool\n",
      "p2         2075 non-null object\n",
      "p2_conf    2075 non-null float64\n",
      "p2_dog     2075 non-null bool\n",
      "p3         2075 non-null object\n",
      "p3_conf    2075 non-null float64\n",
      "p3_dog     2075 non-null bool\n",
      "dtypes: bool(3), float64(3), int64(1), object(4)\n",
      "memory usage: 232.0+ KB\n"
     ]
    }
   ],
   "source": [
    "twitter_image_predictions.info()"
   ]
  },
  {
   "cell_type": "markdown",
   "metadata": {},
   "source": [
    "**Tidiness Issue 3**: Three predictions is excessive and not useful for this project. Remove P2 and P3."
   ]
  },
  {
   "cell_type": "markdown",
   "metadata": {},
   "source": [
    "## Clean"
   ]
  },
  {
   "cell_type": "markdown",
   "metadata": {},
   "source": [
    "### Define"
   ]
  },
  {
   "cell_type": "markdown",
   "metadata": {},
   "source": [
    "**Data Quality Issues**\n",
    "1.\tThere are 59 NULL values in expanded_urls.\n",
    "2.\tTimestamp is stored as object instead of datetime.\n",
    "3.\tThere is one tweet with a denominator value of '0'.\n",
    "4.\tThere are 181 tweets that are retweets.\n",
    "5.\tThere are 78 tweets that are replies.\n",
    "6.\tDuplicate data, there are 66 instances of the same photo(s) being predicted..\n",
    "7.\tInstances of invalid dog names (‘None’ and lowercase words).\n",
    "8.\tDog \"stage\" has string value of 'None' instead of NULL for the respective columns (‘doggo’, ‘floofer’, ‘pupper’, ‘puppo’).\n",
    "9.  The 'source' column should be in a cleaner format.\n",
    "\n",
    "**Tidiness Issues**\n",
    "1. The dog 'stages' should be one column with values of 'None', 'doggo', 'floofer', 'pupper', 'puppo'.\n",
    "2. Remove replies and retweets, we only want original tweets.\n",
    "3. Three predictions are excessive and not useful for this project. Remove P2 and P3.\n",
    "4. Combine the three dataframes into one for easier analysis."
   ]
  },
  {
   "cell_type": "markdown",
   "metadata": {},
   "source": [
    "#### Code"
   ]
  },
  {
   "cell_type": "markdown",
   "metadata": {},
   "source": [
    "* Copy original pieces of data prior to cleaning. "
   ]
  },
  {
   "cell_type": "code",
   "execution_count": 31,
   "metadata": {},
   "outputs": [],
   "source": [
    "twitter_archive_clean = twitter_archive.copy()\n",
    "twitter_image_predictions_clean = twitter_image_predictions.copy()\n",
    "twitter_counts_clean = twitter_counts.copy()"
   ]
  },
  {
   "cell_type": "markdown",
   "metadata": {},
   "source": [
    "### 1. Remove 59 NULL values in expanded_urls."
   ]
  },
  {
   "cell_type": "markdown",
   "metadata": {},
   "source": [
    "#### Code"
   ]
  },
  {
   "cell_type": "code",
   "execution_count": 32,
   "metadata": {},
   "outputs": [
    {
     "data": {
      "text/plain": [
       "59"
      ]
     },
     "execution_count": 32,
     "metadata": {},
     "output_type": "execute_result"
    }
   ],
   "source": [
    "twitter_archive_clean.expanded_urls.isnull().sum()"
   ]
  },
  {
   "cell_type": "code",
   "execution_count": 33,
   "metadata": {},
   "outputs": [],
   "source": [
    "twitter_archive_clean.dropna(subset=['expanded_urls'], inplace=True)"
   ]
  },
  {
   "cell_type": "markdown",
   "metadata": {},
   "source": [
    "#### Test"
   ]
  },
  {
   "cell_type": "code",
   "execution_count": 34,
   "metadata": {},
   "outputs": [],
   "source": [
    "assert twitter_archive_clean.expanded_urls.isnull().sum() == 0"
   ]
  },
  {
   "cell_type": "markdown",
   "metadata": {},
   "source": [
    "### 2.\tChange Timestamp to datetime."
   ]
  },
  {
   "cell_type": "markdown",
   "metadata": {},
   "source": [
    "#### Code"
   ]
  },
  {
   "cell_type": "code",
   "execution_count": 35,
   "metadata": {},
   "outputs": [],
   "source": [
    "#https://stackoverflow.com/questions/32034689/why-is-pandas-to-datetime-slow-for-non-standard-time-format-such-as-2014-12-31/32034914#32034914\n",
    "twitter_archive_clean.timestamp = pd.to_datetime(twitter_archive_clean.timestamp, infer_datetime_format=True)"
   ]
  },
  {
   "cell_type": "markdown",
   "metadata": {},
   "source": [
    "#### Test"
   ]
  },
  {
   "cell_type": "code",
   "execution_count": 36,
   "metadata": {},
   "outputs": [
    {
     "data": {
      "text/plain": [
       "dtype('<M8[ns]')"
      ]
     },
     "execution_count": 36,
     "metadata": {},
     "output_type": "execute_result"
    }
   ],
   "source": [
    "twitter_archive_clean.timestamp.dtype"
   ]
  },
  {
   "cell_type": "markdown",
   "metadata": {},
   "source": [
    "### 3.\tRemove tweet with a denominator value of '0'.\n",
    " * This is actually a 'reply tweet' and will be removed in the step below."
   ]
  },
  {
   "cell_type": "markdown",
   "metadata": {},
   "source": [
    "### 4 & 5. Remove Replies and Retweets\n",
    "1. Retain records where:\n",
    " * in_reply_to_status_id IS NULL or\n",
    " * retweeted_status_id IS NULL\n",
    "2. Drop reply and retween columns\n",
    "3. Expected result is 2097 (Remove 78 Replies & 181 retweets)."
   ]
  },
  {
   "cell_type": "markdown",
   "metadata": {},
   "source": [
    "#### Code"
   ]
  },
  {
   "cell_type": "code",
   "execution_count": 37,
   "metadata": {},
   "outputs": [],
   "source": [
    "twitter_archive_clean = twitter_archive_clean[twitter_archive_clean.in_reply_to_status_id.isnull()]\n",
    "twitter_archive_clean = twitter_archive_clean[twitter_archive_clean.retweeted_status_id.isnull()]\n",
    "twitter_archive_clean.drop(['in_reply_to_status_id',\n",
    "                    'in_reply_to_user_id',\n",
    "                    'retweeted_status_id',\n",
    "                    'retweeted_status_user_id',\n",
    "                    'retweeted_status_timestamp'], \n",
    "                   inplace = True, axis = 1)"
   ]
  },
  {
   "cell_type": "markdown",
   "metadata": {},
   "source": [
    "#### Test"
   ]
  },
  {
   "cell_type": "code",
   "execution_count": 38,
   "metadata": {},
   "outputs": [
    {
     "data": {
      "text/plain": [
       "2094"
      ]
     },
     "execution_count": 38,
     "metadata": {},
     "output_type": "execute_result"
    }
   ],
   "source": [
    "len(twitter_archive_clean)"
   ]
  },
  {
   "cell_type": "markdown",
   "metadata": {},
   "source": [
    "### 6.\tDuplicate data, remove 66 duplicate image predictions."
   ]
  },
  {
   "cell_type": "markdown",
   "metadata": {},
   "source": [
    "#### Code"
   ]
  },
  {
   "cell_type": "code",
   "execution_count": 39,
   "metadata": {},
   "outputs": [
    {
     "data": {
      "text/plain": [
       "2075"
      ]
     },
     "execution_count": 39,
     "metadata": {},
     "output_type": "execute_result"
    }
   ],
   "source": [
    "len(twitter_image_predictions_clean)"
   ]
  },
  {
   "cell_type": "code",
   "execution_count": 40,
   "metadata": {},
   "outputs": [],
   "source": [
    "twitter_image_predictions_clean.drop_duplicates(subset=['jpg_url'], inplace=True)"
   ]
  },
  {
   "cell_type": "markdown",
   "metadata": {},
   "source": [
    "#### Test"
   ]
  },
  {
   "cell_type": "code",
   "execution_count": 41,
   "metadata": {},
   "outputs": [],
   "source": [
    "assert twitter_image_predictions_clean.duplicated().sum() == 0"
   ]
  },
  {
   "cell_type": "code",
   "execution_count": 42,
   "metadata": {},
   "outputs": [
    {
     "data": {
      "text/plain": [
       "2009"
      ]
     },
     "execution_count": 42,
     "metadata": {},
     "output_type": "execute_result"
    }
   ],
   "source": [
    "len(twitter_image_predictions_clean)"
   ]
  },
  {
   "cell_type": "markdown",
   "metadata": {},
   "source": [
    "### 7. Remove invalid dog names."
   ]
  },
  {
   "cell_type": "markdown",
   "metadata": {},
   "source": [
    "#### Code"
   ]
  },
  {
   "cell_type": "code",
   "execution_count": 43,
   "metadata": {},
   "outputs": [
    {
     "data": {
      "text/plain": [
       "(600, 55)"
      ]
     },
     "execution_count": 43,
     "metadata": {},
     "output_type": "execute_result"
    }
   ],
   "source": [
    "(twitter_archive_clean.name.str.strip() == 'None').sum(), \\\n",
    "(twitter_archive_clean.name.str.strip() == 'a').sum()"
   ]
  },
  {
   "cell_type": "code",
   "execution_count": 44,
   "metadata": {},
   "outputs": [],
   "source": [
    "#https://stackoverflow.com/questions/50633935/pandas-replace-all-strings-in-lowercase-in-a-column-with-none\n",
    "#https://stackoverflow.com/questions/17534106/what-is-the-difference-between-nan-and-none\n",
    "#df.loc[df['names'] == df['names'].str.lower(), 'names'] = np.nan\n",
    "\n",
    "twitter_archive_clean.loc[twitter_archive_clean.name.str.strip() == twitter_archive_clean.name.str.lower(), 'name'] = np.nan\n",
    "twitter_archive_clean.loc[twitter_archive_clean.name.str.strip() == 'None', 'name'] = np.nan"
   ]
  },
  {
   "cell_type": "markdown",
   "metadata": {},
   "source": [
    "#### Test"
   ]
  },
  {
   "cell_type": "code",
   "execution_count": 45,
   "metadata": {},
   "outputs": [],
   "source": [
    "assert (twitter_archive_clean.name.str.strip() == 'None').sum() == 0\n",
    "assert (twitter_archive_clean.name.str.strip() == 'a').sum() == 0"
   ]
  },
  {
   "cell_type": "markdown",
   "metadata": {},
   "source": [
    "### 8.\tReplace 'None' with NaN for columns (‘doggo’, ‘floofer’, ‘pupper’, ‘puppo’)"
   ]
  },
  {
   "cell_type": "markdown",
   "metadata": {},
   "source": [
    "#### Code"
   ]
  },
  {
   "cell_type": "code",
   "execution_count": 46,
   "metadata": {},
   "outputs": [
    {
     "data": {
      "text/plain": [
       "(2011, 2084, 1865, 2070)"
      ]
     },
     "execution_count": 46,
     "metadata": {},
     "output_type": "execute_result"
    }
   ],
   "source": [
    "(twitter_archive_clean.doggo.str.strip() == 'None').sum(), \\\n",
    "(twitter_archive_clean.floofer.str.strip() == 'None').sum(), \\\n",
    "(twitter_archive_clean.pupper.str.strip() == 'None').sum(), \\\n",
    "(twitter_archive_clean.puppo.str.strip() == 'None').sum(),"
   ]
  },
  {
   "cell_type": "code",
   "execution_count": 47,
   "metadata": {},
   "outputs": [],
   "source": [
    "twitter_archive_clean.loc[twitter_archive_clean.doggo.str.strip() == 'None', 'doggo'] = np.nan\n",
    "twitter_archive_clean.loc[twitter_archive_clean.floofer.str.strip() == 'None', 'floofer'] = np.nan\n",
    "twitter_archive_clean.loc[twitter_archive_clean.pupper.str.strip() == 'None', 'pupper'] = np.nan\n",
    "twitter_archive_clean.loc[twitter_archive_clean.puppo.str.strip() == 'None', 'puppo'] = np.nan"
   ]
  },
  {
   "cell_type": "markdown",
   "metadata": {},
   "source": [
    "#### Test"
   ]
  },
  {
   "cell_type": "code",
   "execution_count": 48,
   "metadata": {},
   "outputs": [],
   "source": [
    "assert (twitter_archive_clean.doggo.str.strip() == 'None').sum() == 0\n",
    "assert (twitter_archive_clean.floofer.str.strip() == 'None').sum() == 0\n",
    "assert (twitter_archive_clean.pupper.str.strip() == 'None').sum() == 0\n",
    "assert (twitter_archive_clean.puppo.str.strip() == 'None').sum() == 0"
   ]
  },
  {
   "cell_type": "markdown",
   "metadata": {},
   "source": [
    "### 9.\tCreate dog_stage column by combining then dropping 'doggo', 'floofer', 'pupper', and 'puppo' columns"
   ]
  },
  {
   "cell_type": "markdown",
   "metadata": {},
   "source": [
    "#### Code"
   ]
  },
  {
   "cell_type": "code",
   "execution_count": 49,
   "metadata": {},
   "outputs": [],
   "source": [
    "#https://stackoverflow.com/questions/33098383/merge-multiple-column-values-into-one-column-in-python-pandas/33098470\n",
    "twitter_archive_clean['dog_stage'] = twitter_archive_clean[twitter_archive_clean.columns[-4:]].apply(lambda x: '-'.join(x.dropna().astype(str)), axis=1)\n",
    "twitter_archive_clean.dog_stage.replace('', 'unknown', inplace=True)"
   ]
  },
  {
   "cell_type": "code",
   "execution_count": 50,
   "metadata": {},
   "outputs": [],
   "source": [
    "twitter_archive_clean.drop(['doggo',\n",
    "                            'floofer',\n",
    "                            'pupper',\n",
    "                            'puppo'],\n",
    "                           inplace = True, axis = 1)"
   ]
  },
  {
   "cell_type": "markdown",
   "metadata": {},
   "source": [
    "#### Test"
   ]
  },
  {
   "cell_type": "code",
   "execution_count": 51,
   "metadata": {},
   "outputs": [
    {
     "data": {
      "text/plain": [
       "array(['unknown', 'doggo', 'puppo', 'pupper', 'floofer', 'doggo-puppo',\n",
       "       'doggo-floofer', 'doggo-pupper'], dtype=object)"
      ]
     },
     "execution_count": 51,
     "metadata": {},
     "output_type": "execute_result"
    }
   ],
   "source": [
    "twitter_archive_clean.dog_stage.unique()"
   ]
  },
  {
   "cell_type": "code",
   "execution_count": 52,
   "metadata": {},
   "outputs": [
    {
     "data": {
      "text/html": [
       "<div>\n",
       "<style>\n",
       "    .dataframe thead tr:only-child th {\n",
       "        text-align: right;\n",
       "    }\n",
       "\n",
       "    .dataframe thead th {\n",
       "        text-align: left;\n",
       "    }\n",
       "\n",
       "    .dataframe tbody tr th {\n",
       "        vertical-align: top;\n",
       "    }\n",
       "</style>\n",
       "<table border=\"1\" class=\"dataframe\">\n",
       "  <thead>\n",
       "    <tr style=\"text-align: right;\">\n",
       "      <th></th>\n",
       "      <th>timestamp</th>\n",
       "      <th>source</th>\n",
       "      <th>text</th>\n",
       "      <th>expanded_urls</th>\n",
       "      <th>rating_numerator</th>\n",
       "      <th>rating_denominator</th>\n",
       "      <th>name</th>\n",
       "      <th>dog_stage</th>\n",
       "    </tr>\n",
       "    <tr>\n",
       "      <th>tweet_id</th>\n",
       "      <th></th>\n",
       "      <th></th>\n",
       "      <th></th>\n",
       "      <th></th>\n",
       "      <th></th>\n",
       "      <th></th>\n",
       "      <th></th>\n",
       "      <th></th>\n",
       "    </tr>\n",
       "  </thead>\n",
       "  <tbody>\n",
       "    <tr>\n",
       "      <th>892420643555336193</th>\n",
       "      <td>2017-08-01 16:23:56</td>\n",
       "      <td>&lt;a href=\"http://twitter.com/download/iphone\" r...</td>\n",
       "      <td>This is Phineas. He's a mystical boy. Only eve...</td>\n",
       "      <td>https://twitter.com/dog_rates/status/892420643...</td>\n",
       "      <td>13</td>\n",
       "      <td>10</td>\n",
       "      <td>Phineas</td>\n",
       "      <td>unknown</td>\n",
       "    </tr>\n",
       "    <tr>\n",
       "      <th>892177421306343426</th>\n",
       "      <td>2017-08-01 00:17:27</td>\n",
       "      <td>&lt;a href=\"http://twitter.com/download/iphone\" r...</td>\n",
       "      <td>This is Tilly. She's just checking pup on you....</td>\n",
       "      <td>https://twitter.com/dog_rates/status/892177421...</td>\n",
       "      <td>13</td>\n",
       "      <td>10</td>\n",
       "      <td>Tilly</td>\n",
       "      <td>unknown</td>\n",
       "    </tr>\n",
       "  </tbody>\n",
       "</table>\n",
       "</div>"
      ],
      "text/plain": [
       "                             timestamp  \\\n",
       "tweet_id                                 \n",
       "892420643555336193 2017-08-01 16:23:56   \n",
       "892177421306343426 2017-08-01 00:17:27   \n",
       "\n",
       "                                                               source  \\\n",
       "tweet_id                                                                \n",
       "892420643555336193  <a href=\"http://twitter.com/download/iphone\" r...   \n",
       "892177421306343426  <a href=\"http://twitter.com/download/iphone\" r...   \n",
       "\n",
       "                                                                 text  \\\n",
       "tweet_id                                                                \n",
       "892420643555336193  This is Phineas. He's a mystical boy. Only eve...   \n",
       "892177421306343426  This is Tilly. She's just checking pup on you....   \n",
       "\n",
       "                                                        expanded_urls  \\\n",
       "tweet_id                                                                \n",
       "892420643555336193  https://twitter.com/dog_rates/status/892420643...   \n",
       "892177421306343426  https://twitter.com/dog_rates/status/892177421...   \n",
       "\n",
       "                    rating_numerator  rating_denominator     name dog_stage  \n",
       "tweet_id                                                                     \n",
       "892420643555336193                13                  10  Phineas   unknown  \n",
       "892177421306343426                13                  10    Tilly   unknown  "
      ]
     },
     "execution_count": 52,
     "metadata": {},
     "output_type": "execute_result"
    }
   ],
   "source": [
    "twitter_archive_clean.head(2)"
   ]
  },
  {
   "cell_type": "markdown",
   "metadata": {},
   "source": [
    "### 11.\tClean up the 'source' column."
   ]
  },
  {
   "cell_type": "markdown",
   "metadata": {},
   "source": [
    "#### Code"
   ]
  },
  {
   "cell_type": "code",
   "execution_count": 53,
   "metadata": {},
   "outputs": [
    {
     "data": {
      "text/plain": [
       "['<a href=\"http://twitter.com/download/iphone\" rel=\"nofollow\">Twitter for iPhone</a>',\n",
       " '<a href=\"http://twitter.com\" rel=\"nofollow\">Twitter Web Client</a>',\n",
       " '<a href=\"http://vine.co\" rel=\"nofollow\">Vine - Make a Scene</a>',\n",
       " '<a href=\"https://about.twitter.com/products/tweetdeck\" rel=\"nofollow\">TweetDeck</a>']"
      ]
     },
     "execution_count": 53,
     "metadata": {},
     "output_type": "execute_result"
    }
   ],
   "source": [
    "list(twitter_archive_clean.source.unique())"
   ]
  },
  {
   "cell_type": "code",
   "execution_count": 54,
   "metadata": {},
   "outputs": [],
   "source": [
    "source_old = list(twitter_archive_clean.source.unique())\n",
    "source_new = ['iPhone', 'Web Client', 'Vine', 'TweetDeck']\n",
    "twitter_archive_clean.source.replace(source_old,\n",
    "                                     source_new,\n",
    "                                     inplace = True)"
   ]
  },
  {
   "cell_type": "markdown",
   "metadata": {},
   "source": [
    "#### Test"
   ]
  },
  {
   "cell_type": "code",
   "execution_count": 55,
   "metadata": {},
   "outputs": [],
   "source": [
    "for source in list(twitter_archive_clean.source.unique()):\n",
    "    assert source not in source_old"
   ]
  },
  {
   "cell_type": "markdown",
   "metadata": {},
   "source": [
    "### 12. Combine numerator and denominator columns."
   ]
  },
  {
   "cell_type": "markdown",
   "metadata": {},
   "source": [
    "#### Code"
   ]
  },
  {
   "cell_type": "code",
   "execution_count": 56,
   "metadata": {
    "scrolled": false
   },
   "outputs": [],
   "source": [
    "twitter_archive_clean['rating'] = twitter_archive_clean.rating_numerator / twitter_archive_clean.rating_denominator\n",
    "twitter_archive_clean.drop(['rating_numerator',\n",
    "                            'rating_denominator'],\n",
    "                            inplace = True, axis = 1)"
   ]
  },
  {
   "cell_type": "markdown",
   "metadata": {},
   "source": [
    "#### Test"
   ]
  },
  {
   "cell_type": "code",
   "execution_count": 57,
   "metadata": {},
   "outputs": [
    {
     "data": {
      "text/html": [
       "<div>\n",
       "<style>\n",
       "    .dataframe thead tr:only-child th {\n",
       "        text-align: right;\n",
       "    }\n",
       "\n",
       "    .dataframe thead th {\n",
       "        text-align: left;\n",
       "    }\n",
       "\n",
       "    .dataframe tbody tr th {\n",
       "        vertical-align: top;\n",
       "    }\n",
       "</style>\n",
       "<table border=\"1\" class=\"dataframe\">\n",
       "  <thead>\n",
       "    <tr style=\"text-align: right;\">\n",
       "      <th></th>\n",
       "      <th>timestamp</th>\n",
       "      <th>source</th>\n",
       "      <th>text</th>\n",
       "      <th>expanded_urls</th>\n",
       "      <th>name</th>\n",
       "      <th>dog_stage</th>\n",
       "      <th>rating</th>\n",
       "    </tr>\n",
       "    <tr>\n",
       "      <th>tweet_id</th>\n",
       "      <th></th>\n",
       "      <th></th>\n",
       "      <th></th>\n",
       "      <th></th>\n",
       "      <th></th>\n",
       "      <th></th>\n",
       "      <th></th>\n",
       "    </tr>\n",
       "  </thead>\n",
       "  <tbody>\n",
       "    <tr>\n",
       "      <th>892420643555336193</th>\n",
       "      <td>2017-08-01 16:23:56</td>\n",
       "      <td>iPhone</td>\n",
       "      <td>This is Phineas. He's a mystical boy. Only eve...</td>\n",
       "      <td>https://twitter.com/dog_rates/status/892420643...</td>\n",
       "      <td>Phineas</td>\n",
       "      <td>unknown</td>\n",
       "      <td>1.3</td>\n",
       "    </tr>\n",
       "    <tr>\n",
       "      <th>892177421306343426</th>\n",
       "      <td>2017-08-01 00:17:27</td>\n",
       "      <td>iPhone</td>\n",
       "      <td>This is Tilly. She's just checking pup on you....</td>\n",
       "      <td>https://twitter.com/dog_rates/status/892177421...</td>\n",
       "      <td>Tilly</td>\n",
       "      <td>unknown</td>\n",
       "      <td>1.3</td>\n",
       "    </tr>\n",
       "  </tbody>\n",
       "</table>\n",
       "</div>"
      ],
      "text/plain": [
       "                             timestamp  source  \\\n",
       "tweet_id                                         \n",
       "892420643555336193 2017-08-01 16:23:56  iPhone   \n",
       "892177421306343426 2017-08-01 00:17:27  iPhone   \n",
       "\n",
       "                                                                 text  \\\n",
       "tweet_id                                                                \n",
       "892420643555336193  This is Phineas. He's a mystical boy. Only eve...   \n",
       "892177421306343426  This is Tilly. She's just checking pup on you....   \n",
       "\n",
       "                                                        expanded_urls  \\\n",
       "tweet_id                                                                \n",
       "892420643555336193  https://twitter.com/dog_rates/status/892420643...   \n",
       "892177421306343426  https://twitter.com/dog_rates/status/892177421...   \n",
       "\n",
       "                       name dog_stage  rating  \n",
       "tweet_id                                       \n",
       "892420643555336193  Phineas   unknown     1.3  \n",
       "892177421306343426    Tilly   unknown     1.3  "
      ]
     },
     "execution_count": 57,
     "metadata": {},
     "output_type": "execute_result"
    }
   ],
   "source": [
    "twitter_archive_clean.head(2)"
   ]
  },
  {
   "cell_type": "markdown",
   "metadata": {},
   "source": [
    "### 13a. NEW CODE: after further analysis (details below).\n",
    " * This was added after performing further analasis of the data.\n",
    " * There are cases where p1_dog is FALSE, but p2_dog or p3_dog is TRUE.\n",
    " * Since this is the \"We Rate Dogs\", I will make an assumption that most, if not all, submitted pictures are of a dog.\n",
    " * With the above said, I have added the below code to combine p1, p2, and p3, instead of dropping p2 and p3 as originally planned."
   ]
  },
  {
   "cell_type": "markdown",
   "metadata": {},
   "source": [
    "#### Code"
   ]
  },
  {
   "cell_type": "code",
   "execution_count": 58,
   "metadata": {},
   "outputs": [
    {
     "data": {
      "text/plain": [
       "(149, 62)"
      ]
     },
     "execution_count": 58,
     "metadata": {},
     "output_type": "execute_result"
    }
   ],
   "source": [
    "len(twitter_image_predictions_clean[(twitter_image_predictions_clean.p1_dog == False) & (twitter_image_predictions_clean.p2_dog == True)]), \\\n",
    "len(twitter_image_predictions_clean[(twitter_image_predictions_clean.p1_dog == False) & (twitter_image_predictions_clean.p2_dog == False) & (twitter_image_predictions_clean.p3_dog == True)])"
   ]
  },
  {
   "cell_type": "code",
   "execution_count": 59,
   "metadata": {},
   "outputs": [],
   "source": [
    "#https://stackoverflow.com/questions/47969756/pandas-apply-function-that-returns-two-new-columns\n",
    "def dog_prediction(row):\n",
    "    if row.p1_dog == True:\n",
    "        return pd.Series([row.p1, row.p1_conf, row.p1_dog])\n",
    "    elif row.p2_dog == True:\n",
    "        return pd.Series([row.p2, row.p2_conf, row.p2_dog])\n",
    "    elif row.p3_dog == True:\n",
    "        return pd.Series([row.p3, row.p3_conf, row.p3_dog])\n",
    "    else:\n",
    "        return pd.Series([row.p1, row.p1_conf, row.p1_dog])\n",
    "\n",
    "twitter_image_predictions_clean[['p1', 'p1_conf', 'p1_dog']] = twitter_image_predictions_clean.apply(dog_prediction, axis=1)"
   ]
  },
  {
   "cell_type": "markdown",
   "metadata": {},
   "source": [
    "#### Test"
   ]
  },
  {
   "cell_type": "code",
   "execution_count": 60,
   "metadata": {},
   "outputs": [],
   "source": [
    "assert len(twitter_image_predictions_clean[(twitter_image_predictions_clean.p1_dog == False) & (twitter_image_predictions_clean.p2_dog == True)]) == 0\n",
    "assert len(twitter_image_predictions_clean[(twitter_image_predictions_clean.p1_dog == False) & (twitter_image_predictions_clean.p2_dog == False) & (twitter_image_predictions_clean.p3_dog == True)]) == 0"
   ]
  },
  {
   "cell_type": "markdown",
   "metadata": {},
   "source": [
    "### 13b. Combine the three dataframes for analysis, only keep relevant columns for testing. "
   ]
  },
  {
   "cell_type": "markdown",
   "metadata": {},
   "source": [
    "#### Code"
   ]
  },
  {
   "cell_type": "code",
   "execution_count": 61,
   "metadata": {},
   "outputs": [
    {
     "data": {
      "text/plain": [
       "(1971, 2008, 2094)"
      ]
     },
     "execution_count": 61,
     "metadata": {},
     "output_type": "execute_result"
    }
   ],
   "source": [
    "twitter_image_predictions_clean.index.isin(twitter_archive_clean.index).sum(), \\\n",
    "twitter_image_predictions_clean.index.isin(twitter_counts_clean.index).sum(), \\\n",
    "twitter_archive_clean.index.isin(twitter_counts_clean.index).sum()"
   ]
  },
  {
   "cell_type": "code",
   "execution_count": 62,
   "metadata": {},
   "outputs": [],
   "source": [
    "twitter_archive_master = twitter_archive_clean.join(twitter_counts_clean, how='inner').join(twitter_image_predictions_clean, how='inner')\n",
    "twitter_archive_master.drop(['text',\n",
    "                        'expanded_urls',\n",
    "                        'jpg_url',\n",
    "                        'p2',\n",
    "                        'p2_conf',\n",
    "                        'p2_dog',\n",
    "                        'p3',\n",
    "                        'p3_conf',\n",
    "                        'p3_dog'],\n",
    "                       inplace = True, axis = 1)"
   ]
  },
  {
   "cell_type": "markdown",
   "metadata": {},
   "source": [
    "#### Test\n",
    "* Expected count of inner join between the three dataframes is 1971 (smallest count)."
   ]
  },
  {
   "cell_type": "code",
   "execution_count": 63,
   "metadata": {},
   "outputs": [],
   "source": [
    "assert len(twitter_archive_master) == 1971"
   ]
  },
  {
   "cell_type": "code",
   "execution_count": 64,
   "metadata": {},
   "outputs": [
    {
     "data": {
      "text/html": [
       "<div>\n",
       "<style>\n",
       "    .dataframe thead tr:only-child th {\n",
       "        text-align: right;\n",
       "    }\n",
       "\n",
       "    .dataframe thead th {\n",
       "        text-align: left;\n",
       "    }\n",
       "\n",
       "    .dataframe tbody tr th {\n",
       "        vertical-align: top;\n",
       "    }\n",
       "</style>\n",
       "<table border=\"1\" class=\"dataframe\">\n",
       "  <thead>\n",
       "    <tr style=\"text-align: right;\">\n",
       "      <th></th>\n",
       "      <th>timestamp</th>\n",
       "      <th>source</th>\n",
       "      <th>name</th>\n",
       "      <th>dog_stage</th>\n",
       "      <th>rating</th>\n",
       "      <th>retweet_count</th>\n",
       "      <th>favorite_count</th>\n",
       "      <th>img_num</th>\n",
       "      <th>p1</th>\n",
       "      <th>p1_conf</th>\n",
       "      <th>p1_dog</th>\n",
       "    </tr>\n",
       "    <tr>\n",
       "      <th>tweet_id</th>\n",
       "      <th></th>\n",
       "      <th></th>\n",
       "      <th></th>\n",
       "      <th></th>\n",
       "      <th></th>\n",
       "      <th></th>\n",
       "      <th></th>\n",
       "      <th></th>\n",
       "      <th></th>\n",
       "      <th></th>\n",
       "      <th></th>\n",
       "    </tr>\n",
       "  </thead>\n",
       "  <tbody>\n",
       "    <tr>\n",
       "      <th>892420643555336193</th>\n",
       "      <td>2017-08-01 16:23:56</td>\n",
       "      <td>iPhone</td>\n",
       "      <td>Phineas</td>\n",
       "      <td>unknown</td>\n",
       "      <td>1.3</td>\n",
       "      <td>8853</td>\n",
       "      <td>39467</td>\n",
       "      <td>1</td>\n",
       "      <td>orange</td>\n",
       "      <td>0.097049</td>\n",
       "      <td>False</td>\n",
       "    </tr>\n",
       "    <tr>\n",
       "      <th>892177421306343426</th>\n",
       "      <td>2017-08-01 00:17:27</td>\n",
       "      <td>iPhone</td>\n",
       "      <td>Tilly</td>\n",
       "      <td>unknown</td>\n",
       "      <td>1.3</td>\n",
       "      <td>6514</td>\n",
       "      <td>33819</td>\n",
       "      <td>1</td>\n",
       "      <td>Chihuahua</td>\n",
       "      <td>0.323581</td>\n",
       "      <td>True</td>\n",
       "    </tr>\n",
       "  </tbody>\n",
       "</table>\n",
       "</div>"
      ],
      "text/plain": [
       "                             timestamp  source     name dog_stage  rating  \\\n",
       "tweet_id                                                                    \n",
       "892420643555336193 2017-08-01 16:23:56  iPhone  Phineas   unknown     1.3   \n",
       "892177421306343426 2017-08-01 00:17:27  iPhone    Tilly   unknown     1.3   \n",
       "\n",
       "                    retweet_count  favorite_count  img_num         p1  \\\n",
       "tweet_id                                                                \n",
       "892420643555336193           8853           39467        1     orange   \n",
       "892177421306343426           6514           33819        1  Chihuahua   \n",
       "\n",
       "                     p1_conf  p1_dog  \n",
       "tweet_id                              \n",
       "892420643555336193  0.097049   False  \n",
       "892177421306343426  0.323581    True  "
      ]
     },
     "execution_count": 64,
     "metadata": {},
     "output_type": "execute_result"
    }
   ],
   "source": [
    "twitter_archive_master.head(2)"
   ]
  },
  {
   "cell_type": "code",
   "execution_count": 65,
   "metadata": {},
   "outputs": [
    {
     "name": "stdout",
     "output_type": "stream",
     "text": [
      "<class 'pandas.core.frame.DataFrame'>\n",
      "Int64Index: 1971 entries, 892420643555336193 to 666020888022790149\n",
      "Data columns (total 11 columns):\n",
      "timestamp         1971 non-null datetime64[ns]\n",
      "source            1971 non-null object\n",
      "name              1349 non-null object\n",
      "dog_stage         1971 non-null object\n",
      "rating            1971 non-null float64\n",
      "retweet_count     1971 non-null int64\n",
      "favorite_count    1971 non-null int64\n",
      "img_num           1971 non-null int64\n",
      "p1                1971 non-null object\n",
      "p1_conf           1971 non-null float64\n",
      "p1_dog            1971 non-null bool\n",
      "dtypes: bool(1), datetime64[ns](1), float64(2), int64(3), object(4)\n",
      "memory usage: 171.3+ KB\n"
     ]
    }
   ],
   "source": [
    "twitter_archive_master.info()"
   ]
  },
  {
   "cell_type": "markdown",
   "metadata": {},
   "source": [
    "### 14.\tReplace NaN with 'unknown' for the name column as NaN requires special query functions."
   ]
  },
  {
   "cell_type": "markdown",
   "metadata": {},
   "source": [
    "#### Code"
   ]
  },
  {
   "cell_type": "code",
   "execution_count": 66,
   "metadata": {},
   "outputs": [],
   "source": [
    "twitter_archive_master.name.replace(np.nan, 'unknown', inplace=True)"
   ]
  },
  {
   "cell_type": "markdown",
   "metadata": {},
   "source": [
    "#### Test"
   ]
  },
  {
   "cell_type": "code",
   "execution_count": 67,
   "metadata": {},
   "outputs": [
    {
     "name": "stdout",
     "output_type": "stream",
     "text": [
      "<class 'pandas.core.frame.DataFrame'>\n",
      "Int64Index: 1971 entries, 892420643555336193 to 666020888022790149\n",
      "Data columns (total 11 columns):\n",
      "timestamp         1971 non-null datetime64[ns]\n",
      "source            1971 non-null object\n",
      "name              1971 non-null object\n",
      "dog_stage         1971 non-null object\n",
      "rating            1971 non-null float64\n",
      "retweet_count     1971 non-null int64\n",
      "favorite_count    1971 non-null int64\n",
      "img_num           1971 non-null int64\n",
      "p1                1971 non-null object\n",
      "p1_conf           1971 non-null float64\n",
      "p1_dog            1971 non-null bool\n",
      "dtypes: bool(1), datetime64[ns](1), float64(2), int64(3), object(4)\n",
      "memory usage: 171.3+ KB\n"
     ]
    }
   ],
   "source": [
    "twitter_archive_master.info()"
   ]
  },
  {
   "cell_type": "markdown",
   "metadata": {},
   "source": [
    "## Store"
   ]
  },
  {
   "cell_type": "markdown",
   "metadata": {},
   "source": [
    "#### Code"
   ]
  },
  {
   "cell_type": "code",
   "execution_count": 68,
   "metadata": {},
   "outputs": [],
   "source": [
    "twitter_archive_master.to_csv('twitter_archive_master.csv', header=True, index=True)\n",
    "#twitter_archive_clean.to_csv('twitter_archive_clean.csv', header=True, index=True)\n",
    "#twitter_counts_clean.to_csv('twitter_counts_clean.csv', header=True, index=True)\n",
    "#twitter_image_predictions_clean.to_csv('twitter_image_predictions_clean.csv', header=True, index=True)"
   ]
  },
  {
   "cell_type": "markdown",
   "metadata": {},
   "source": [
    "#### Test"
   ]
  },
  {
   "cell_type": "code",
   "execution_count": 69,
   "metadata": {},
   "outputs": [
    {
     "name": "stdout",
     "output_type": "stream",
     "text": [
      "total 13M\r\n",
      "-rw-r--r-- 1 root root 203K Feb 10 05:34 twitter_archive_master.csv\r\n",
      "-rw-r--r-- 1 root root 328K Feb 10 05:34 image-predictions.tsv\r\n",
      "-rw-r--r-- 1 root root 506K Feb 10 05:34 wrangle_act.ipynb\r\n",
      "-rw-r--r-- 1 root root  54K Feb  9 22:30 wrangle_report.pdf\r\n",
      "-rw-r--r-- 1 root root 850K Feb  9 22:29 act_report.pdf\r\n",
      "-rw-r--r-- 1 root root  11M Jan 22 23:21 tweet-json.txt\r\n",
      "-rw-r--r-- 1 root root 895K Jan 22 23:20 twitter-archive-enhanced.csv\r\n"
     ]
    }
   ],
   "source": [
    "!ls -lth"
   ]
  },
  {
   "cell_type": "markdown",
   "metadata": {},
   "source": [
    "## Analyze"
   ]
  },
  {
   "cell_type": "code",
   "execution_count": 70,
   "metadata": {},
   "outputs": [
    {
     "data": {
      "text/html": [
       "<div>\n",
       "<style>\n",
       "    .dataframe thead tr:only-child th {\n",
       "        text-align: right;\n",
       "    }\n",
       "\n",
       "    .dataframe thead th {\n",
       "        text-align: left;\n",
       "    }\n",
       "\n",
       "    .dataframe tbody tr th {\n",
       "        vertical-align: top;\n",
       "    }\n",
       "</style>\n",
       "<table border=\"1\" class=\"dataframe\">\n",
       "  <thead>\n",
       "    <tr style=\"text-align: right;\">\n",
       "      <th></th>\n",
       "      <th>timestamp</th>\n",
       "      <th>source</th>\n",
       "      <th>name</th>\n",
       "      <th>dog_stage</th>\n",
       "      <th>rating</th>\n",
       "      <th>retweet_count</th>\n",
       "      <th>favorite_count</th>\n",
       "      <th>img_num</th>\n",
       "      <th>p1</th>\n",
       "      <th>p1_conf</th>\n",
       "      <th>p1_dog</th>\n",
       "    </tr>\n",
       "    <tr>\n",
       "      <th>tweet_id</th>\n",
       "      <th></th>\n",
       "      <th></th>\n",
       "      <th></th>\n",
       "      <th></th>\n",
       "      <th></th>\n",
       "      <th></th>\n",
       "      <th></th>\n",
       "      <th></th>\n",
       "      <th></th>\n",
       "      <th></th>\n",
       "      <th></th>\n",
       "    </tr>\n",
       "  </thead>\n",
       "  <tbody>\n",
       "    <tr>\n",
       "      <th>892420643555336193</th>\n",
       "      <td>2017-08-01 16:23:56</td>\n",
       "      <td>iPhone</td>\n",
       "      <td>Phineas</td>\n",
       "      <td>unknown</td>\n",
       "      <td>1.3</td>\n",
       "      <td>8853</td>\n",
       "      <td>39467</td>\n",
       "      <td>1</td>\n",
       "      <td>orange</td>\n",
       "      <td>0.097049</td>\n",
       "      <td>False</td>\n",
       "    </tr>\n",
       "    <tr>\n",
       "      <th>892177421306343426</th>\n",
       "      <td>2017-08-01 00:17:27</td>\n",
       "      <td>iPhone</td>\n",
       "      <td>Tilly</td>\n",
       "      <td>unknown</td>\n",
       "      <td>1.3</td>\n",
       "      <td>6514</td>\n",
       "      <td>33819</td>\n",
       "      <td>1</td>\n",
       "      <td>Chihuahua</td>\n",
       "      <td>0.323581</td>\n",
       "      <td>True</td>\n",
       "    </tr>\n",
       "  </tbody>\n",
       "</table>\n",
       "</div>"
      ],
      "text/plain": [
       "                             timestamp  source     name dog_stage  rating  \\\n",
       "tweet_id                                                                    \n",
       "892420643555336193 2017-08-01 16:23:56  iPhone  Phineas   unknown     1.3   \n",
       "892177421306343426 2017-08-01 00:17:27  iPhone    Tilly   unknown     1.3   \n",
       "\n",
       "                    retweet_count  favorite_count  img_num         p1  \\\n",
       "tweet_id                                                                \n",
       "892420643555336193           8853           39467        1     orange   \n",
       "892177421306343426           6514           33819        1  Chihuahua   \n",
       "\n",
       "                     p1_conf  p1_dog  \n",
       "tweet_id                              \n",
       "892420643555336193  0.097049   False  \n",
       "892177421306343426  0.323581    True  "
      ]
     },
     "execution_count": 70,
     "metadata": {},
     "output_type": "execute_result"
    }
   ],
   "source": [
    "twitter_archive_master.head(2)"
   ]
  },
  {
   "cell_type": "code",
   "execution_count": 71,
   "metadata": {},
   "outputs": [
    {
     "data": {
      "text/plain": [
       "iPhone        1932\n",
       "Web Client      28\n",
       "TweetDeck       11\n",
       "Name: source, dtype: int64"
      ]
     },
     "execution_count": 71,
     "metadata": {},
     "output_type": "execute_result"
    }
   ],
   "source": [
    "twitter_archive_master.source.value_counts()"
   ]
  },
  {
   "cell_type": "markdown",
   "metadata": {},
   "source": [
    " * Most common source is iPhone."
   ]
  },
  {
   "cell_type": "code",
   "execution_count": 72,
   "metadata": {},
   "outputs": [
    {
     "data": {
      "text/plain": [
       "unknown    622\n",
       "Charlie     11\n",
       "Lucy        10\n",
       "Oliver      10\n",
       "Cooper      10\n",
       "Tucker       9\n",
       "Penny        9\n",
       "Sadie        8\n",
       "Winston      8\n",
       "Toby         7\n",
       "Name: name, dtype: int64"
      ]
     },
     "execution_count": 72,
     "metadata": {},
     "output_type": "execute_result"
    }
   ],
   "source": [
    "twitter_archive_master.name.value_counts().head(10)"
   ]
  },
  {
   "cell_type": "markdown",
   "metadata": {},
   "source": [
    " * Most common dog name is Charlie."
   ]
  },
  {
   "cell_type": "code",
   "execution_count": 73,
   "metadata": {},
   "outputs": [
    {
     "data": {
      "text/plain": [
       "1.2    450\n",
       "1.0    419\n",
       "1.1    397\n",
       "1.3    253\n",
       "0.9    150\n",
       "0.8     95\n",
       "0.7     51\n",
       "0.5     34\n",
       "1.4     33\n",
       "0.6     32\n",
       "Name: rating, dtype: int64"
      ]
     },
     "execution_count": 73,
     "metadata": {},
     "output_type": "execute_result"
    }
   ],
   "source": [
    "twitter_archive_master.rating.value_counts().head(10)"
   ]
  },
  {
   "cell_type": "markdown",
   "metadata": {},
   "source": [
    " * Most common rating is 1.2."
   ]
  },
  {
   "cell_type": "code",
   "execution_count": 74,
   "metadata": {},
   "outputs": [
    {
     "data": {
      "text/plain": [
       "golden_retriever      156\n",
       "Labrador_retriever    106\n",
       "Pembroke               94\n",
       "Chihuahua              90\n",
       "pug                    62\n",
       "toy_poodle             50\n",
       "chow                   48\n",
       "Samoyed                42\n",
       "Pomeranian             41\n",
       "malamute               33\n",
       "Name: p1, dtype: int64"
      ]
     },
     "execution_count": 74,
     "metadata": {},
     "output_type": "execute_result"
    }
   ],
   "source": [
    "twitter_archive_master.p1.value_counts().head(10)"
   ]
  },
  {
   "cell_type": "markdown",
   "metadata": {},
   "source": [
    " * Most popular dogs appears to be golden_retriever & Labrador_retriever."
   ]
  },
  {
   "cell_type": "code",
   "execution_count": 75,
   "metadata": {},
   "outputs": [
    {
     "data": {
      "text/plain": [
       "True     1666\n",
       "False     305\n",
       "Name: p1_dog, dtype: int64"
      ]
     },
     "execution_count": 75,
     "metadata": {},
     "output_type": "execute_result"
    }
   ],
   "source": [
    "twitter_archive_master.p1_dog.value_counts()"
   ]
  },
  {
   "cell_type": "markdown",
   "metadata": {},
   "source": [
    "### Check for correlated data\n",
    " * Analyze twitter_archive_master to see if any of the columns are correlated. "
   ]
  },
  {
   "cell_type": "code",
   "execution_count": 76,
   "metadata": {},
   "outputs": [
    {
     "data": {
      "text/html": [
       "<style  type=\"text/css\" >\n",
       "    #T_8d28a7c2_2cf5_11e9_8746_0242ac120002row0_col0 {\n",
       "            background-color:  #023858;\n",
       "        }    #T_8d28a7c2_2cf5_11e9_8746_0242ac120002row0_col1 {\n",
       "            background-color:  #fff7fb;\n",
       "        }    #T_8d28a7c2_2cf5_11e9_8746_0242ac120002row0_col2 {\n",
       "            background-color:  #fff7fb;\n",
       "        }    #T_8d28a7c2_2cf5_11e9_8746_0242ac120002row0_col3 {\n",
       "            background-color:  #fff7fb;\n",
       "        }    #T_8d28a7c2_2cf5_11e9_8746_0242ac120002row0_col4 {\n",
       "            background-color:  #fff7fb;\n",
       "        }    #T_8d28a7c2_2cf5_11e9_8746_0242ac120002row0_col5 {\n",
       "            background-color:  #fff7fb;\n",
       "        }    #T_8d28a7c2_2cf5_11e9_8746_0242ac120002row1_col0 {\n",
       "            background-color:  #f6eff7;\n",
       "        }    #T_8d28a7c2_2cf5_11e9_8746_0242ac120002row1_col1 {\n",
       "            background-color:  #023858;\n",
       "        }    #T_8d28a7c2_2cf5_11e9_8746_0242ac120002row1_col2 {\n",
       "            background-color:  #034f7d;\n",
       "        }    #T_8d28a7c2_2cf5_11e9_8746_0242ac120002row1_col3 {\n",
       "            background-color:  #efe9f3;\n",
       "        }    #T_8d28a7c2_2cf5_11e9_8746_0242ac120002row1_col4 {\n",
       "            background-color:  #fbf3f9;\n",
       "        }    #T_8d28a7c2_2cf5_11e9_8746_0242ac120002row1_col5 {\n",
       "            background-color:  #f5eef6;\n",
       "        }    #T_8d28a7c2_2cf5_11e9_8746_0242ac120002row2_col0 {\n",
       "            background-color:  #f6eff7;\n",
       "        }    #T_8d28a7c2_2cf5_11e9_8746_0242ac120002row2_col1 {\n",
       "            background-color:  #034f7d;\n",
       "        }    #T_8d28a7c2_2cf5_11e9_8746_0242ac120002row2_col2 {\n",
       "            background-color:  #023858;\n",
       "        }    #T_8d28a7c2_2cf5_11e9_8746_0242ac120002row2_col3 {\n",
       "            background-color:  #e9e5f1;\n",
       "        }    #T_8d28a7c2_2cf5_11e9_8746_0242ac120002row2_col4 {\n",
       "            background-color:  #f6eff7;\n",
       "        }    #T_8d28a7c2_2cf5_11e9_8746_0242ac120002row2_col5 {\n",
       "            background-color:  #efe9f3;\n",
       "        }    #T_8d28a7c2_2cf5_11e9_8746_0242ac120002row3_col0 {\n",
       "            background-color:  #f8f1f8;\n",
       "        }    #T_8d28a7c2_2cf5_11e9_8746_0242ac120002row3_col1 {\n",
       "            background-color:  #f1ebf5;\n",
       "        }    #T_8d28a7c2_2cf5_11e9_8746_0242ac120002row3_col2 {\n",
       "            background-color:  #ede7f2;\n",
       "        }    #T_8d28a7c2_2cf5_11e9_8746_0242ac120002row3_col3 {\n",
       "            background-color:  #023858;\n",
       "        }    #T_8d28a7c2_2cf5_11e9_8746_0242ac120002row3_col4 {\n",
       "            background-color:  #e8e4f0;\n",
       "        }    #T_8d28a7c2_2cf5_11e9_8746_0242ac120002row3_col5 {\n",
       "            background-color:  #f1ebf4;\n",
       "        }    #T_8d28a7c2_2cf5_11e9_8746_0242ac120002row4_col0 {\n",
       "            background-color:  #f9f2f8;\n",
       "        }    #T_8d28a7c2_2cf5_11e9_8746_0242ac120002row4_col1 {\n",
       "            background-color:  #fef6fa;\n",
       "        }    #T_8d28a7c2_2cf5_11e9_8746_0242ac120002row4_col2 {\n",
       "            background-color:  #f9f2f8;\n",
       "        }    #T_8d28a7c2_2cf5_11e9_8746_0242ac120002row4_col3 {\n",
       "            background-color:  #e8e4f0;\n",
       "        }    #T_8d28a7c2_2cf5_11e9_8746_0242ac120002row4_col4 {\n",
       "            background-color:  #023858;\n",
       "        }    #T_8d28a7c2_2cf5_11e9_8746_0242ac120002row4_col5 {\n",
       "            background-color:  #f5eef6;\n",
       "        }    #T_8d28a7c2_2cf5_11e9_8746_0242ac120002row5_col0 {\n",
       "            background-color:  #fff7fb;\n",
       "        }    #T_8d28a7c2_2cf5_11e9_8746_0242ac120002row5_col1 {\n",
       "            background-color:  #fef6fb;\n",
       "        }    #T_8d28a7c2_2cf5_11e9_8746_0242ac120002row5_col2 {\n",
       "            background-color:  #f8f1f8;\n",
       "        }    #T_8d28a7c2_2cf5_11e9_8746_0242ac120002row5_col3 {\n",
       "            background-color:  #f7f0f7;\n",
       "        }    #T_8d28a7c2_2cf5_11e9_8746_0242ac120002row5_col4 {\n",
       "            background-color:  #fbf4f9;\n",
       "        }    #T_8d28a7c2_2cf5_11e9_8746_0242ac120002row5_col5 {\n",
       "            background-color:  #023858;\n",
       "        }</style>  \n",
       "<table id=\"T_8d28a7c2_2cf5_11e9_8746_0242ac120002\" > \n",
       "<thead>    <tr> \n",
       "        <th class=\"blank level0\" ></th> \n",
       "        <th class=\"col_heading level0 col0\" >rating</th> \n",
       "        <th class=\"col_heading level0 col1\" >retweet_count</th> \n",
       "        <th class=\"col_heading level0 col2\" >favorite_count</th> \n",
       "        <th class=\"col_heading level0 col3\" >img_num</th> \n",
       "        <th class=\"col_heading level0 col4\" >p1_conf</th> \n",
       "        <th class=\"col_heading level0 col5\" >p1_dog</th> \n",
       "    </tr></thead> \n",
       "<tbody>    <tr> \n",
       "        <th id=\"T_8d28a7c2_2cf5_11e9_8746_0242ac120002level0_row0\" class=\"row_heading level0 row0\" >rating</th> \n",
       "        <td id=\"T_8d28a7c2_2cf5_11e9_8746_0242ac120002row0_col0\" class=\"data row0 col0\" >1</td> \n",
       "        <td id=\"T_8d28a7c2_2cf5_11e9_8746_0242ac120002row0_col1\" class=\"data row0 col1\" >0.018</td> \n",
       "        <td id=\"T_8d28a7c2_2cf5_11e9_8746_0242ac120002row0_col2\" class=\"data row0 col2\" >0.016</td> \n",
       "        <td id=\"T_8d28a7c2_2cf5_11e9_8746_0242ac120002row0_col3\" class=\"data row0 col3\" >-0.00016</td> \n",
       "        <td id=\"T_8d28a7c2_2cf5_11e9_8746_0242ac120002row0_col4\" class=\"data row0 col4\" >-0.0027</td> \n",
       "        <td id=\"T_8d28a7c2_2cf5_11e9_8746_0242ac120002row0_col5\" class=\"data row0 col5\" >-0.047</td> \n",
       "    </tr>    <tr> \n",
       "        <th id=\"T_8d28a7c2_2cf5_11e9_8746_0242ac120002level0_row1\" class=\"row_heading level0 row1\" >retweet_count</th> \n",
       "        <td id=\"T_8d28a7c2_2cf5_11e9_8746_0242ac120002row1_col0\" class=\"data row1 col0\" >0.018</td> \n",
       "        <td id=\"T_8d28a7c2_2cf5_11e9_8746_0242ac120002row1_col1\" class=\"data row1 col1\" >1</td> \n",
       "        <td id=\"T_8d28a7c2_2cf5_11e9_8746_0242ac120002row1_col2\" class=\"data row1 col2\" >0.91</td> \n",
       "        <td id=\"T_8d28a7c2_2cf5_11e9_8746_0242ac120002row1_col3\" class=\"data row1 col3\" >0.11</td> \n",
       "        <td id=\"T_8d28a7c2_2cf5_11e9_8746_0242ac120002row1_col4\" class=\"data row1 col4\" >0.026</td> \n",
       "        <td id=\"T_8d28a7c2_2cf5_11e9_8746_0242ac120002row1_col5\" class=\"data row1 col5\" >0.025</td> \n",
       "    </tr>    <tr> \n",
       "        <th id=\"T_8d28a7c2_2cf5_11e9_8746_0242ac120002level0_row2\" class=\"row_heading level0 row2\" >favorite_count</th> \n",
       "        <td id=\"T_8d28a7c2_2cf5_11e9_8746_0242ac120002row2_col0\" class=\"data row2 col0\" >0.016</td> \n",
       "        <td id=\"T_8d28a7c2_2cf5_11e9_8746_0242ac120002row2_col1\" class=\"data row2 col1\" >0.91</td> \n",
       "        <td id=\"T_8d28a7c2_2cf5_11e9_8746_0242ac120002row2_col2\" class=\"data row2 col2\" >1</td> \n",
       "        <td id=\"T_8d28a7c2_2cf5_11e9_8746_0242ac120002row2_col3\" class=\"data row2 col3\" >0.14</td> \n",
       "        <td id=\"T_8d28a7c2_2cf5_11e9_8746_0242ac120002row2_col4\" class=\"data row2 col4\" >0.057</td> \n",
       "        <td id=\"T_8d28a7c2_2cf5_11e9_8746_0242ac120002row2_col5\" class=\"data row2 col5\" >0.065</td> \n",
       "    </tr>    <tr> \n",
       "        <th id=\"T_8d28a7c2_2cf5_11e9_8746_0242ac120002level0_row3\" class=\"row_heading level0 row3\" >img_num</th> \n",
       "        <td id=\"T_8d28a7c2_2cf5_11e9_8746_0242ac120002row3_col0\" class=\"data row3 col0\" >-0.00016</td> \n",
       "        <td id=\"T_8d28a7c2_2cf5_11e9_8746_0242ac120002row3_col1\" class=\"data row3 col1\" >0.11</td> \n",
       "        <td id=\"T_8d28a7c2_2cf5_11e9_8746_0242ac120002row3_col2\" class=\"data row3 col2\" >0.14</td> \n",
       "        <td id=\"T_8d28a7c2_2cf5_11e9_8746_0242ac120002row3_col3\" class=\"data row3 col3\" >1</td> \n",
       "        <td id=\"T_8d28a7c2_2cf5_11e9_8746_0242ac120002row3_col4\" class=\"data row3 col4\" >0.14</td> \n",
       "        <td id=\"T_8d28a7c2_2cf5_11e9_8746_0242ac120002row3_col5\" class=\"data row3 col5\" >0.052</td> \n",
       "    </tr>    <tr> \n",
       "        <th id=\"T_8d28a7c2_2cf5_11e9_8746_0242ac120002level0_row4\" class=\"row_heading level0 row4\" >p1_conf</th> \n",
       "        <td id=\"T_8d28a7c2_2cf5_11e9_8746_0242ac120002row4_col0\" class=\"data row4 col0\" >-0.0027</td> \n",
       "        <td id=\"T_8d28a7c2_2cf5_11e9_8746_0242ac120002row4_col1\" class=\"data row4 col1\" >0.026</td> \n",
       "        <td id=\"T_8d28a7c2_2cf5_11e9_8746_0242ac120002row4_col2\" class=\"data row4 col2\" >0.057</td> \n",
       "        <td id=\"T_8d28a7c2_2cf5_11e9_8746_0242ac120002row4_col3\" class=\"data row4 col3\" >0.14</td> \n",
       "        <td id=\"T_8d28a7c2_2cf5_11e9_8746_0242ac120002row4_col4\" class=\"data row4 col4\" >1</td> \n",
       "        <td id=\"T_8d28a7c2_2cf5_11e9_8746_0242ac120002row4_col5\" class=\"data row4 col5\" >0.023</td> \n",
       "    </tr>    <tr> \n",
       "        <th id=\"T_8d28a7c2_2cf5_11e9_8746_0242ac120002level0_row5\" class=\"row_heading level0 row5\" >p1_dog</th> \n",
       "        <td id=\"T_8d28a7c2_2cf5_11e9_8746_0242ac120002row5_col0\" class=\"data row5 col0\" >-0.047</td> \n",
       "        <td id=\"T_8d28a7c2_2cf5_11e9_8746_0242ac120002row5_col1\" class=\"data row5 col1\" >0.025</td> \n",
       "        <td id=\"T_8d28a7c2_2cf5_11e9_8746_0242ac120002row5_col2\" class=\"data row5 col2\" >0.065</td> \n",
       "        <td id=\"T_8d28a7c2_2cf5_11e9_8746_0242ac120002row5_col3\" class=\"data row5 col3\" >0.052</td> \n",
       "        <td id=\"T_8d28a7c2_2cf5_11e9_8746_0242ac120002row5_col4\" class=\"data row5 col4\" >0.023</td> \n",
       "        <td id=\"T_8d28a7c2_2cf5_11e9_8746_0242ac120002row5_col5\" class=\"data row5 col5\" >1</td> \n",
       "    </tr></tbody> \n",
       "</table> "
      ],
      "text/plain": [
       "<pandas.io.formats.style.Styler at 0x7f87422cd8d0>"
      ]
     },
     "execution_count": 76,
     "metadata": {},
     "output_type": "execute_result"
    }
   ],
   "source": [
    "#https://stackoverflow.com/questions/29432629/correlation-matrix-using-pandas\n",
    "corr = twitter_archive_master.corr()\n",
    "corr.style.background_gradient().set_precision(2)"
   ]
  },
  {
   "cell_type": "markdown",
   "metadata": {},
   "source": [
    " * retweet_count and favoriate_count are highly correlated.\n",
    " * To visually confirm the findings, we'll create a scatterplot with a regression line below."
   ]
  },
  {
   "cell_type": "code",
   "execution_count": 77,
   "metadata": {},
   "outputs": [
    {
     "data": {
      "image/png": "[encoded data removed]",
      "text/plain": [
       "<matplotlib.figure.Figure at 0x7f8742a0fe10>"
      ]
     },
     "metadata": {
      "needs_background": "light"
     },
     "output_type": "display_data"
    }
   ],
   "source": [
    "#twitter_archive_master.plot(x='retweet_count', y='favorite_count', kind='scatter')\n",
    "sns.regplot(x='retweet_count', y='favorite_count', data=twitter_archive_master)\n",
    "plt.xlabel('Retweets'), plt.ylabel('Favorites')\n",
    "plt.title('Scatter Plot with Regression\\n of Retweets and Favorites', fontsize=14);"
   ]
  },
  {
   "cell_type": "markdown",
   "metadata": {},
   "source": [
    "* **Insight #1:** Tweets that are 'favorited' are also 'retweeted' with a high correlation of 0.91."
   ]
  },
  {
   "cell_type": "markdown",
   "metadata": {},
   "source": [
    "### Check Dog Data from Image Predictions for Insights"
   ]
  },
  {
   "cell_type": "markdown",
   "metadata": {},
   "source": [
    " * Create dataframe called 'twitter_most_rated_dogs' that contains the top 10 rated dogs by number of ratings."
   ]
  },
  {
   "cell_type": "code",
   "execution_count": 78,
   "metadata": {},
   "outputs": [],
   "source": [
    "twitter_archive_dogs = twitter_archive_master[twitter_archive_master.p1_dog]\n",
    "most_rated = list((twitter_archive_dogs.p1.value_counts()).head(10).index)"
   ]
  },
  {
   "cell_type": "code",
   "execution_count": 79,
   "metadata": {},
   "outputs": [
    {
     "data": {
      "text/plain": [
       "['golden_retriever',\n",
       " 'Labrador_retriever',\n",
       " 'Pembroke',\n",
       " 'Chihuahua',\n",
       " 'pug',\n",
       " 'toy_poodle',\n",
       " 'chow',\n",
       " 'Samoyed',\n",
       " 'Pomeranian',\n",
       " 'malamute']"
      ]
     },
     "execution_count": 79,
     "metadata": {},
     "output_type": "execute_result"
    }
   ],
   "source": [
    "most_rated"
   ]
  },
  {
   "cell_type": "code",
   "execution_count": 80,
   "metadata": {},
   "outputs": [
    {
     "data": {
      "text/html": [
       "<div>\n",
       "<style>\n",
       "    .dataframe thead tr:only-child th {\n",
       "        text-align: right;\n",
       "    }\n",
       "\n",
       "    .dataframe thead th {\n",
       "        text-align: left;\n",
       "    }\n",
       "\n",
       "    .dataframe tbody tr th {\n",
       "        vertical-align: top;\n",
       "    }\n",
       "</style>\n",
       "<table border=\"1\" class=\"dataframe\">\n",
       "  <thead>\n",
       "    <tr>\n",
       "      <th></th>\n",
       "      <th colspan=\"4\" halign=\"left\">rating</th>\n",
       "    </tr>\n",
       "    <tr>\n",
       "      <th></th>\n",
       "      <th>count</th>\n",
       "      <th>mean</th>\n",
       "      <th>min</th>\n",
       "      <th>max</th>\n",
       "    </tr>\n",
       "    <tr>\n",
       "      <th>p1</th>\n",
       "      <th></th>\n",
       "      <th></th>\n",
       "      <th></th>\n",
       "      <th></th>\n",
       "    </tr>\n",
       "  </thead>\n",
       "  <tbody>\n",
       "    <tr>\n",
       "      <th>Pomeranian</th>\n",
       "      <td>41</td>\n",
       "      <td>1.253659</td>\n",
       "      <td>0.6</td>\n",
       "      <td>7.500000</td>\n",
       "    </tr>\n",
       "    <tr>\n",
       "      <th>Samoyed</th>\n",
       "      <td>42</td>\n",
       "      <td>1.169048</td>\n",
       "      <td>0.7</td>\n",
       "      <td>1.400000</td>\n",
       "    </tr>\n",
       "    <tr>\n",
       "      <th>golden_retriever</th>\n",
       "      <td>156</td>\n",
       "      <td>1.167607</td>\n",
       "      <td>0.5</td>\n",
       "      <td>3.428571</td>\n",
       "    </tr>\n",
       "    <tr>\n",
       "      <th>Pembroke</th>\n",
       "      <td>94</td>\n",
       "      <td>1.142553</td>\n",
       "      <td>0.4</td>\n",
       "      <td>1.400000</td>\n",
       "    </tr>\n",
       "    <tr>\n",
       "      <th>chow</th>\n",
       "      <td>48</td>\n",
       "      <td>1.141667</td>\n",
       "      <td>0.7</td>\n",
       "      <td>1.300000</td>\n",
       "    </tr>\n",
       "    <tr>\n",
       "      <th>Labrador_retriever</th>\n",
       "      <td>106</td>\n",
       "      <td>1.119811</td>\n",
       "      <td>0.7</td>\n",
       "      <td>1.400000</td>\n",
       "    </tr>\n",
       "    <tr>\n",
       "      <th>toy_poodle</th>\n",
       "      <td>50</td>\n",
       "      <td>1.100000</td>\n",
       "      <td>0.7</td>\n",
       "      <td>1.300000</td>\n",
       "    </tr>\n",
       "    <tr>\n",
       "      <th>malamute</th>\n",
       "      <td>33</td>\n",
       "      <td>1.087879</td>\n",
       "      <td>0.8</td>\n",
       "      <td>1.300000</td>\n",
       "    </tr>\n",
       "    <tr>\n",
       "      <th>Chihuahua</th>\n",
       "      <td>90</td>\n",
       "      <td>1.049293</td>\n",
       "      <td>0.3</td>\n",
       "      <td>1.400000</td>\n",
       "    </tr>\n",
       "    <tr>\n",
       "      <th>pug</th>\n",
       "      <td>62</td>\n",
       "      <td>1.024194</td>\n",
       "      <td>0.3</td>\n",
       "      <td>1.300000</td>\n",
       "    </tr>\n",
       "  </tbody>\n",
       "</table>\n",
       "</div>"
      ],
      "text/plain": [
       "                   rating                         \n",
       "                    count      mean  min       max\n",
       "p1                                                \n",
       "Pomeranian             41  1.253659  0.6  7.500000\n",
       "Samoyed                42  1.169048  0.7  1.400000\n",
       "golden_retriever      156  1.167607  0.5  3.428571\n",
       "Pembroke               94  1.142553  0.4  1.400000\n",
       "chow                   48  1.141667  0.7  1.300000\n",
       "Labrador_retriever    106  1.119811  0.7  1.400000\n",
       "toy_poodle             50  1.100000  0.7  1.300000\n",
       "malamute               33  1.087879  0.8  1.300000\n",
       "Chihuahua              90  1.049293  0.3  1.400000\n",
       "pug                    62  1.024194  0.3  1.300000"
      ]
     },
     "execution_count": 80,
     "metadata": {},
     "output_type": "execute_result"
    }
   ],
   "source": [
    "#https://stackoverflow.com/questions/38174155/group-dataframe-and-get-sum-and-count/38174164\n",
    "#df.groupby('Company Name').agg({'Amount': ['sum','count']})\n",
    "twitter_most_rated_dogs = twitter_archive_dogs[twitter_archive_dogs.p1.isin(most_rated)]\n",
    "twitter_most_rated_dogs[['p1','rating']].groupby(['p1']).agg({'rating': ['count','mean', 'min', 'max']}).sort_values([('rating', 'mean')], ascending=False)"
   ]
  },
  {
   "cell_type": "markdown",
   "metadata": {},
   "source": [
    " * Pomeranian is the highested rated dog, but appears to have a huge outlier rating of \"7.5\""
   ]
  },
  {
   "cell_type": "code",
   "execution_count": 81,
   "metadata": {},
   "outputs": [
    {
     "data": {
      "image/png": "[encoded data removed]",
      "text/plain": [
       "<matplotlib.figure.Figure at 0x7f87429b9fd0>"
      ]
     },
     "metadata": {},
     "output_type": "display_data"
    }
   ],
   "source": [
    "X = twitter_most_rated_dogs\n",
    "sns.set(rc={'figure.figsize':(14,4)})\n",
    "sns.boxplot(X.p1, X.rating, showfliers=True);\n",
    "plt.xlabel('Breed'); plt.ylabel('Rating');\n",
    "plt.title('Box Plot of Top 10 Rated Dogs', fontsize=14);"
   ]
  },
  {
   "cell_type": "markdown",
   "metadata": {},
   "source": [
    " * From the box plot, there are some big outliers in the dog ratings.\n",
    " * Let's remove the outliers and redraw the graph."
   ]
  },
  {
   "cell_type": "code",
   "execution_count": 82,
   "metadata": {},
   "outputs": [
    {
     "data": {
      "text/plain": [
       "(1.3, 0.7)"
      ]
     },
     "execution_count": 82,
     "metadata": {},
     "output_type": "execute_result"
    }
   ],
   "source": [
    "twitter_most_rated_dogs.rating.quantile(0.975), \\\n",
    "twitter_most_rated_dogs.rating.quantile(0.025)"
   ]
  },
  {
   "cell_type": "markdown",
   "metadata": {},
   "source": [
    " * Create new dataframe within the quantiles shown above."
   ]
  },
  {
   "cell_type": "code",
   "execution_count": 83,
   "metadata": {},
   "outputs": [],
   "source": [
    "rating_bottom = twitter_most_rated_dogs.rating.quantile(0.025)\n",
    "rating_top = twitter_most_rated_dogs.rating.quantile(0.975)\n",
    "twitter_most_rated_dogs_clean = twitter_most_rated_dogs.copy()\n",
    "\n",
    "twitter_most_rated_dogs_clean = \\\n",
    "    twitter_most_rated_dogs_clean[rating_bottom <= twitter_most_rated_dogs_clean.rating]\n",
    "twitter_most_rated_dogs_clean = \\\n",
    "    twitter_most_rated_dogs_clean[twitter_most_rated_dogs_clean.rating <= rating_top]"
   ]
  },
  {
   "cell_type": "code",
   "execution_count": 84,
   "metadata": {},
   "outputs": [
    {
     "data": {
      "image/png": "[encoded data removed]",
      "text/plain": [
       "<matplotlib.figure.Figure at 0x7f8742aa3c88>"
      ]
     },
     "metadata": {},
     "output_type": "display_data"
    }
   ],
   "source": [
    "X = twitter_most_rated_dogs_clean\n",
    "sns.set(rc={'figure.figsize':(14,4)})\n",
    "sns.boxplot(X.p1, X.rating, showfliers=True);\n",
    "plt.xlabel('Breed'); plt.ylabel('Rating');\n",
    "plt.title('Box Plot of Top 10 Rated Dogs', fontsize=14);"
   ]
  },
  {
   "cell_type": "code",
   "execution_count": 85,
   "metadata": {},
   "outputs": [
    {
     "data": {
      "text/html": [
       "<div>\n",
       "<style>\n",
       "    .dataframe thead tr:only-child th {\n",
       "        text-align: right;\n",
       "    }\n",
       "\n",
       "    .dataframe thead th {\n",
       "        text-align: left;\n",
       "    }\n",
       "\n",
       "    .dataframe tbody tr th {\n",
       "        vertical-align: top;\n",
       "    }\n",
       "</style>\n",
       "<table border=\"1\" class=\"dataframe\">\n",
       "  <thead>\n",
       "    <tr>\n",
       "      <th></th>\n",
       "      <th colspan=\"4\" halign=\"left\">rating</th>\n",
       "    </tr>\n",
       "    <tr>\n",
       "      <th></th>\n",
       "      <th>count</th>\n",
       "      <th>mean</th>\n",
       "      <th>min</th>\n",
       "      <th>max</th>\n",
       "    </tr>\n",
       "    <tr>\n",
       "      <th>p1</th>\n",
       "      <th></th>\n",
       "      <th></th>\n",
       "      <th></th>\n",
       "      <th></th>\n",
       "    </tr>\n",
       "  </thead>\n",
       "  <tbody>\n",
       "    <tr>\n",
       "      <th>Samoyed</th>\n",
       "      <td>41</td>\n",
       "      <td>1.163415</td>\n",
       "      <td>0.7</td>\n",
       "      <td>1.3</td>\n",
       "    </tr>\n",
       "    <tr>\n",
       "      <th>golden_retriever</th>\n",
       "      <td>152</td>\n",
       "      <td>1.154067</td>\n",
       "      <td>0.8</td>\n",
       "      <td>1.3</td>\n",
       "    </tr>\n",
       "    <tr>\n",
       "      <th>Pembroke</th>\n",
       "      <td>87</td>\n",
       "      <td>1.152874</td>\n",
       "      <td>0.7</td>\n",
       "      <td>1.3</td>\n",
       "    </tr>\n",
       "    <tr>\n",
       "      <th>chow</th>\n",
       "      <td>48</td>\n",
       "      <td>1.141667</td>\n",
       "      <td>0.7</td>\n",
       "      <td>1.3</td>\n",
       "    </tr>\n",
       "    <tr>\n",
       "      <th>Labrador_retriever</th>\n",
       "      <td>105</td>\n",
       "      <td>1.117143</td>\n",
       "      <td>0.7</td>\n",
       "      <td>1.3</td>\n",
       "    </tr>\n",
       "    <tr>\n",
       "      <th>Pomeranian</th>\n",
       "      <td>38</td>\n",
       "      <td>1.102632</td>\n",
       "      <td>0.7</td>\n",
       "      <td>1.3</td>\n",
       "    </tr>\n",
       "    <tr>\n",
       "      <th>toy_poodle</th>\n",
       "      <td>50</td>\n",
       "      <td>1.100000</td>\n",
       "      <td>0.7</td>\n",
       "      <td>1.3</td>\n",
       "    </tr>\n",
       "    <tr>\n",
       "      <th>malamute</th>\n",
       "      <td>33</td>\n",
       "      <td>1.087879</td>\n",
       "      <td>0.8</td>\n",
       "      <td>1.3</td>\n",
       "    </tr>\n",
       "    <tr>\n",
       "      <th>Chihuahua</th>\n",
       "      <td>85</td>\n",
       "      <td>1.072941</td>\n",
       "      <td>0.7</td>\n",
       "      <td>1.3</td>\n",
       "    </tr>\n",
       "    <tr>\n",
       "      <th>pug</th>\n",
       "      <td>60</td>\n",
       "      <td>1.043333</td>\n",
       "      <td>0.7</td>\n",
       "      <td>1.3</td>\n",
       "    </tr>\n",
       "  </tbody>\n",
       "</table>\n",
       "</div>"
      ],
      "text/plain": [
       "                   rating                    \n",
       "                    count      mean  min  max\n",
       "p1                                           \n",
       "Samoyed                41  1.163415  0.7  1.3\n",
       "golden_retriever      152  1.154067  0.8  1.3\n",
       "Pembroke               87  1.152874  0.7  1.3\n",
       "chow                   48  1.141667  0.7  1.3\n",
       "Labrador_retriever    105  1.117143  0.7  1.3\n",
       "Pomeranian             38  1.102632  0.7  1.3\n",
       "toy_poodle             50  1.100000  0.7  1.3\n",
       "malamute               33  1.087879  0.8  1.3\n",
       "Chihuahua              85  1.072941  0.7  1.3\n",
       "pug                    60  1.043333  0.7  1.3"
      ]
     },
     "execution_count": 85,
     "metadata": {},
     "output_type": "execute_result"
    }
   ],
   "source": [
    "twitter_most_rated_dogs_clean[['p1','rating']].groupby(['p1']).agg({'rating': ['count','mean', 'min', 'max']}).sort_values([('rating', 'mean')], ascending=False)"
   ]
  },
  {
   "cell_type": "markdown",
   "metadata": {},
   "source": [
    "* **Insight #2:** With the outliers removed, Pomeranian moves from #1 to #6 in the rankings.\n",
    "* Samoyed, Golden Retriever, & Pembroke are the three highest rated dogs by mean."
   ]
  },
  {
   "cell_type": "markdown",
   "metadata": {},
   "source": [
    "### Tweet Analysis by Timeseries\n",
    " * Since we went through the trouble of identifying and converting timestamp to datetime, let's look at some trends over time (timeseries data).\n",
    " * We do not have follower count, so I will look at 'favorites' and 'retweets' as a way to gauge if followers is increasing or decreasing.\n",
    " * All analysis was done on my own; graphing of timeseries twitter data was inspired via the following article and improved upon using moving averages: https://dev.to/rodolfoferro/sentiment-analysis-on-trumpss-tweets-using-python-"
   ]
  },
  {
   "cell_type": "code",
   "execution_count": 86,
   "metadata": {},
   "outputs": [],
   "source": [
    "twitter_archive_ts_analysis = twitter_archive_master.copy()"
   ]
  },
  {
   "cell_type": "markdown",
   "metadata": {},
   "source": [
    " * Let's look at metrics by year and month to see if anything stands out."
   ]
  },
  {
   "cell_type": "code",
   "execution_count": 87,
   "metadata": {},
   "outputs": [],
   "source": [
    "twitter_archive_ts_analysis['year'] = twitter_archive_master.timestamp.dt.year\n",
    "twitter_archive_ts_analysis['month'] = twitter_archive_ts_analysis.timestamp.dt.month"
   ]
  },
  {
   "cell_type": "code",
   "execution_count": 88,
   "metadata": {},
   "outputs": [
    {
     "data": {
      "text/html": [
       "<div>\n",
       "<style>\n",
       "    .dataframe thead tr:only-child th {\n",
       "        text-align: right;\n",
       "    }\n",
       "\n",
       "    .dataframe thead th {\n",
       "        text-align: left;\n",
       "    }\n",
       "\n",
       "    .dataframe tbody tr th {\n",
       "        vertical-align: top;\n",
       "    }\n",
       "</style>\n",
       "<table border=\"1\" class=\"dataframe\">\n",
       "  <thead>\n",
       "    <tr style=\"text-align: right;\">\n",
       "      <th></th>\n",
       "      <th>rating</th>\n",
       "      <th>favorite_count</th>\n",
       "      <th>retweet_count</th>\n",
       "    </tr>\n",
       "    <tr>\n",
       "      <th>year</th>\n",
       "      <th></th>\n",
       "      <th></th>\n",
       "      <th></th>\n",
       "    </tr>\n",
       "  </thead>\n",
       "  <tbody>\n",
       "    <tr>\n",
       "      <th>2015</th>\n",
       "      <td>0.991756</td>\n",
       "      <td>2492.277863</td>\n",
       "      <td>1077.706870</td>\n",
       "    </tr>\n",
       "    <tr>\n",
       "      <th>2016</th>\n",
       "      <td>1.264535</td>\n",
       "      <td>7775.503119</td>\n",
       "      <td>2754.537422</td>\n",
       "    </tr>\n",
       "    <tr>\n",
       "      <th>2017</th>\n",
       "      <td>1.240113</td>\n",
       "      <td>24085.347458</td>\n",
       "      <td>6023.692090</td>\n",
       "    </tr>\n",
       "  </tbody>\n",
       "</table>\n",
       "</div>"
      ],
      "text/plain": [
       "        rating  favorite_count  retweet_count\n",
       "year                                         \n",
       "2015  0.991756     2492.277863    1077.706870\n",
       "2016  1.264535     7775.503119    2754.537422\n",
       "2017  1.240113    24085.347458    6023.692090"
      ]
     },
     "execution_count": 88,
     "metadata": {},
     "output_type": "execute_result"
    }
   ],
   "source": [
    "twitter_archive_ts_analysis.groupby(['year']).mean()[['rating', 'favorite_count', 'retweet_count']]"
   ]
  },
  {
   "cell_type": "markdown",
   "metadata": {},
   "source": [
    " * Average rating, favorite, and retweet when up from 2015-2016.\n",
    " * While average rating went down from 2015-2016, average favorite and retweet went way up.\n",
    " * This is most likely due to increased number of followers which we cannot verify because that data was not provided."
   ]
  },
  {
   "cell_type": "code",
   "execution_count": 89,
   "metadata": {},
   "outputs": [
    {
     "data": {
      "text/html": [
       "<div>\n",
       "<style>\n",
       "    .dataframe thead tr:only-child th {\n",
       "        text-align: right;\n",
       "    }\n",
       "\n",
       "    .dataframe thead th {\n",
       "        text-align: left;\n",
       "    }\n",
       "\n",
       "    .dataframe tbody tr th {\n",
       "        vertical-align: top;\n",
       "    }\n",
       "</style>\n",
       "<table border=\"1\" class=\"dataframe\">\n",
       "  <thead>\n",
       "    <tr style=\"text-align: right;\">\n",
       "      <th></th>\n",
       "      <th></th>\n",
       "      <th>rating</th>\n",
       "      <th>favorite_count</th>\n",
       "      <th>retweet_count</th>\n",
       "    </tr>\n",
       "    <tr>\n",
       "      <th>year</th>\n",
       "      <th>month</th>\n",
       "      <th></th>\n",
       "      <th></th>\n",
       "      <th></th>\n",
       "    </tr>\n",
       "  </thead>\n",
       "  <tbody>\n",
       "    <tr>\n",
       "      <th rowspan=\"2\" valign=\"top\">2015</th>\n",
       "      <th>11</th>\n",
       "      <td>1.028814</td>\n",
       "      <td>1240.037288</td>\n",
       "      <td>541.620339</td>\n",
       "    </tr>\n",
       "    <tr>\n",
       "      <th>12</th>\n",
       "      <td>0.961389</td>\n",
       "      <td>3518.419444</td>\n",
       "      <td>1517.000000</td>\n",
       "    </tr>\n",
       "    <tr>\n",
       "      <th rowspan=\"12\" valign=\"top\">2016</th>\n",
       "      <th>1</th>\n",
       "      <td>1.006846</td>\n",
       "      <td>3990.674699</td>\n",
       "      <td>1519.614458</td>\n",
       "    </tr>\n",
       "    <tr>\n",
       "      <th>2</th>\n",
       "      <td>1.012037</td>\n",
       "      <td>4308.157407</td>\n",
       "      <td>1609.111111</td>\n",
       "    </tr>\n",
       "    <tr>\n",
       "      <th>3</th>\n",
       "      <td>1.038136</td>\n",
       "      <td>4638.567797</td>\n",
       "      <td>1650.754237</td>\n",
       "    </tr>\n",
       "    <tr>\n",
       "      <th>4</th>\n",
       "      <td>1.037037</td>\n",
       "      <td>4703.851852</td>\n",
       "      <td>1613.203704</td>\n",
       "    </tr>\n",
       "    <tr>\n",
       "      <th>5</th>\n",
       "      <td>1.087500</td>\n",
       "      <td>6101.107143</td>\n",
       "      <td>2183.303571</td>\n",
       "    </tr>\n",
       "    <tr>\n",
       "      <th>6</th>\n",
       "      <td>1.020483</td>\n",
       "      <td>9520.607595</td>\n",
       "      <td>4136.886076</td>\n",
       "    </tr>\n",
       "    <tr>\n",
       "      <th>7</th>\n",
       "      <td>3.087500</td>\n",
       "      <td>6980.761364</td>\n",
       "      <td>2482.545455</td>\n",
       "    </tr>\n",
       "    <tr>\n",
       "      <th>8</th>\n",
       "      <td>1.093220</td>\n",
       "      <td>10307.440678</td>\n",
       "      <td>3671.864407</td>\n",
       "    </tr>\n",
       "    <tr>\n",
       "      <th>9</th>\n",
       "      <td>1.144444</td>\n",
       "      <td>11435.476190</td>\n",
       "      <td>3687.285714</td>\n",
       "    </tr>\n",
       "    <tr>\n",
       "      <th>10</th>\n",
       "      <td>1.267692</td>\n",
       "      <td>13294.169231</td>\n",
       "      <td>4274.276923</td>\n",
       "    </tr>\n",
       "    <tr>\n",
       "      <th>11</th>\n",
       "      <td>1.203846</td>\n",
       "      <td>14896.269231</td>\n",
       "      <td>4922.961538</td>\n",
       "    </tr>\n",
       "    <tr>\n",
       "      <th>12</th>\n",
       "      <td>1.235714</td>\n",
       "      <td>16213.777778</td>\n",
       "      <td>5400.351852</td>\n",
       "    </tr>\n",
       "    <tr>\n",
       "      <th rowspan=\"8\" valign=\"top\">2017</th>\n",
       "      <th>1</th>\n",
       "      <td>1.227273</td>\n",
       "      <td>19743.121212</td>\n",
       "      <td>6443.575758</td>\n",
       "    </tr>\n",
       "    <tr>\n",
       "      <th>2</th>\n",
       "      <td>1.218750</td>\n",
       "      <td>18737.265625</td>\n",
       "      <td>4438.031250</td>\n",
       "    </tr>\n",
       "    <tr>\n",
       "      <th>3</th>\n",
       "      <td>1.234043</td>\n",
       "      <td>20573.404255</td>\n",
       "      <td>4886.212766</td>\n",
       "    </tr>\n",
       "    <tr>\n",
       "      <th>4</th>\n",
       "      <td>1.222500</td>\n",
       "      <td>23107.300000</td>\n",
       "      <td>5844.275000</td>\n",
       "    </tr>\n",
       "    <tr>\n",
       "      <th>5</th>\n",
       "      <td>1.276190</td>\n",
       "      <td>29039.166667</td>\n",
       "      <td>7570.023810</td>\n",
       "    </tr>\n",
       "    <tr>\n",
       "      <th>6</th>\n",
       "      <td>1.250000</td>\n",
       "      <td>29126.159091</td>\n",
       "      <td>6586.090909</td>\n",
       "    </tr>\n",
       "    <tr>\n",
       "      <th>7</th>\n",
       "      <td>1.263265</td>\n",
       "      <td>31801.183673</td>\n",
       "      <td>6868.530612</td>\n",
       "    </tr>\n",
       "    <tr>\n",
       "      <th>8</th>\n",
       "      <td>1.300000</td>\n",
       "      <td>36643.000000</td>\n",
       "      <td>7683.500000</td>\n",
       "    </tr>\n",
       "  </tbody>\n",
       "</table>\n",
       "</div>"
      ],
      "text/plain": [
       "              rating  favorite_count  retweet_count\n",
       "year month                                         \n",
       "2015 11     1.028814     1240.037288     541.620339\n",
       "     12     0.961389     3518.419444    1517.000000\n",
       "2016 1      1.006846     3990.674699    1519.614458\n",
       "     2      1.012037     4308.157407    1609.111111\n",
       "     3      1.038136     4638.567797    1650.754237\n",
       "     4      1.037037     4703.851852    1613.203704\n",
       "     5      1.087500     6101.107143    2183.303571\n",
       "     6      1.020483     9520.607595    4136.886076\n",
       "     7      3.087500     6980.761364    2482.545455\n",
       "     8      1.093220    10307.440678    3671.864407\n",
       "     9      1.144444    11435.476190    3687.285714\n",
       "     10     1.267692    13294.169231    4274.276923\n",
       "     11     1.203846    14896.269231    4922.961538\n",
       "     12     1.235714    16213.777778    5400.351852\n",
       "2017 1      1.227273    19743.121212    6443.575758\n",
       "     2      1.218750    18737.265625    4438.031250\n",
       "     3      1.234043    20573.404255    4886.212766\n",
       "     4      1.222500    23107.300000    5844.275000\n",
       "     5      1.276190    29039.166667    7570.023810\n",
       "     6      1.250000    29126.159091    6586.090909\n",
       "     7      1.263265    31801.183673    6868.530612\n",
       "     8      1.300000    36643.000000    7683.500000"
      ]
     },
     "execution_count": 89,
     "metadata": {},
     "output_type": "execute_result"
    }
   ],
   "source": [
    "twitter_archive_ts_analysis.groupby(['year', 'month']).mean()[['rating', 'favorite_count', 'retweet_count']]"
   ]
  },
  {
   "cell_type": "markdown",
   "metadata": {},
   "source": [
    " * Let's remove outlier data and see some more results."
   ]
  },
  {
   "cell_type": "code",
   "execution_count": 90,
   "metadata": {},
   "outputs": [],
   "source": [
    "rating_bottom = twitter_archive_ts_analysis.rating.quantile(0.025)\n",
    "rating_top = twitter_archive_ts_analysis.rating.quantile(0.975)\n",
    "\n",
    "fav_bottom = twitter_archive_ts_analysis.favorite_count.quantile(0.025)\n",
    "fav_top = twitter_archive_ts_analysis.favorite_count.quantile(0.975)\n",
    "\n",
    "ret_bottom = twitter_archive_ts_analysis.retweet_count.quantile(0.025)\n",
    "ret_top = twitter_archive_ts_analysis.retweet_count.quantile(0.975)\n",
    "\n",
    "twitter_archive_ts_analysis_clean = twitter_archive_ts_analysis.copy()"
   ]
  },
  {
   "cell_type": "code",
   "execution_count": 91,
   "metadata": {},
   "outputs": [],
   "source": [
    "twitter_archive_ts_analysis_clean = \\\n",
    "    twitter_archive_ts_analysis_clean[rating_bottom <= twitter_archive_ts_analysis_clean.rating]\n",
    "twitter_archive_ts_analysis_clean = \\\n",
    "    twitter_archive_ts_analysis_clean[twitter_archive_ts_analysis_clean.rating <= rating_top]\n",
    "\n",
    "twitter_archive_ts_analysis_clean = \\\n",
    "    twitter_archive_ts_analysis_clean[fav_bottom <= twitter_archive_ts_analysis_clean.favorite_count]\n",
    "twitter_archive_ts_analysis_clean = \\\n",
    "    twitter_archive_ts_analysis_clean[twitter_archive_ts_analysis_clean.favorite_count <= fav_top]\n",
    "\n",
    "twitter_archive_ts_analysis_clean = \\\n",
    "    twitter_archive_ts_analysis_clean[ret_bottom <= twitter_archive_ts_analysis_clean.retweet_count]\n",
    "twitter_archive_ts_analysis_clean = \\\n",
    "    twitter_archive_ts_analysis_clean[twitter_archive_ts_analysis_clean.retweet_count <= ret_top]"
   ]
  },
  {
   "cell_type": "code",
   "execution_count": 92,
   "metadata": {},
   "outputs": [
    {
     "data": {
      "text/html": [
       "<div>\n",
       "<style>\n",
       "    .dataframe thead tr:only-child th {\n",
       "        text-align: right;\n",
       "    }\n",
       "\n",
       "    .dataframe thead th {\n",
       "        text-align: left;\n",
       "    }\n",
       "\n",
       "    .dataframe tbody tr th {\n",
       "        vertical-align: top;\n",
       "    }\n",
       "</style>\n",
       "<table border=\"1\" class=\"dataframe\">\n",
       "  <thead>\n",
       "    <tr style=\"text-align: right;\">\n",
       "      <th></th>\n",
       "      <th>rating</th>\n",
       "      <th>favorite_count</th>\n",
       "      <th>retweet_count</th>\n",
       "    </tr>\n",
       "    <tr>\n",
       "      <th>year</th>\n",
       "      <th></th>\n",
       "      <th></th>\n",
       "      <th></th>\n",
       "    </tr>\n",
       "  </thead>\n",
       "  <tbody>\n",
       "    <tr>\n",
       "      <th>2015</th>\n",
       "      <td>0.964505</td>\n",
       "      <td>2185.281081</td>\n",
       "      <td>897.841441</td>\n",
       "    </tr>\n",
       "    <tr>\n",
       "      <th>2016</th>\n",
       "      <td>1.076850</td>\n",
       "      <td>6799.279781</td>\n",
       "      <td>2221.434973</td>\n",
       "    </tr>\n",
       "    <tr>\n",
       "      <th>2017</th>\n",
       "      <td>1.230769</td>\n",
       "      <td>19889.819398</td>\n",
       "      <td>4470.397993</td>\n",
       "    </tr>\n",
       "  </tbody>\n",
       "</table>\n",
       "</div>"
      ],
      "text/plain": [
       "        rating  favorite_count  retweet_count\n",
       "year                                         \n",
       "2015  0.964505     2185.281081     897.841441\n",
       "2016  1.076850     6799.279781    2221.434973\n",
       "2017  1.230769    19889.819398    4470.397993"
      ]
     },
     "execution_count": 92,
     "metadata": {},
     "output_type": "execute_result"
    }
   ],
   "source": [
    "twitter_archive_ts_analysis_clean.groupby(['year']).mean()[['rating', 'favorite_count', 'retweet_count']]"
   ]
  },
  {
   "cell_type": "markdown",
   "metadata": {},
   "source": [
    " * With outlier data removed, it's easier to see that there is a trend of increasing ratings year over year.\n",
    " * We can also see that favorites and retweets have gone up, meaning followers have probably gone up."
   ]
  },
  {
   "cell_type": "code",
   "execution_count": 93,
   "metadata": {},
   "outputs": [],
   "source": [
    "t_rating = pd.Series(data=twitter_archive_ts_analysis_clean['rating'].values, index=twitter_archive_ts_analysis_clean['timestamp'])\n",
    "t_fav = pd.Series(data=twitter_archive_ts_analysis_clean['favorite_count'].values, index=twitter_archive_ts_analysis_clean['timestamp'])\n",
    "t_ret = pd.Series(data=twitter_archive_ts_analysis_clean['retweet_count'].values, index=twitter_archive_ts_analysis_clean['timestamp'])"
   ]
  },
  {
   "cell_type": "code",
   "execution_count": 94,
   "metadata": {},
   "outputs": [
    {
     "data": {
      "image/png": "[encoded data removed]",
      "text/plain": [
       "<matplotlib.figure.Figure at 0x7f873fc340b8>"
      ]
     },
     "metadata": {},
     "output_type": "display_data"
    }
   ],
   "source": [
    "t_rating.plot(figsize=(16,4), label=\"Ratings\", legend=True)\n",
    "plt.title('Mean Dog Rating Over Time', fontsize=14);"
   ]
  },
  {
   "cell_type": "code",
   "execution_count": 95,
   "metadata": {},
   "outputs": [
    {
     "data": {
      "image/png": "[encoded data removed]",
      "text/plain": [
       "<matplotlib.figure.Figure at 0x7f873fb3ce10>"
      ]
     },
     "metadata": {},
     "output_type": "display_data"
    }
   ],
   "source": [
    "t_rating_roll = pd.Series(data=twitter_archive_ts_analysis_clean['rating'].rolling(100, min_periods=10).mean().values, index=twitter_archive_ts_analysis_clean['timestamp'])\n",
    "t_rating_roll.plot(figsize=(16,4), label=\"Ratings\", legend=True)\n",
    "plt.title('Rolling Mean Dog Rating Over Time', fontsize=14);"
   ]
  },
  {
   "cell_type": "code",
   "execution_count": 96,
   "metadata": {},
   "outputs": [
    {
     "data": {
      "image/png": "[encoded data removed]",
      "text/plain": [
       "<matplotlib.figure.Figure at 0x7f873fb75630>"
      ]
     },
     "metadata": {},
     "output_type": "display_data"
    }
   ],
   "source": [
    "t_fav.plot(figsize=(16,4), label=\"Favorites\", legend=True)\n",
    "t_ret.plot(figsize=(16,4), label=\"Retweets\", legend=True)\n",
    "plt.title('Mean Favorites and Retweets Over Time', fontsize=14);"
   ]
  },
  {
   "cell_type": "code",
   "execution_count": 97,
   "metadata": {},
   "outputs": [
    {
     "data": {
      "image/png": "[encoded data removed]",
      "text/plain": [
       "<matplotlib.figure.Figure at 0x7f873fc3af60>"
      ]
     },
     "metadata": {},
     "output_type": "display_data"
    }
   ],
   "source": [
    "t_fav_roll = pd.Series(data=twitter_archive_ts_analysis_clean['favorite_count'].rolling(100, min_periods=10).mean().values, index=twitter_archive_ts_analysis_clean['timestamp'])\n",
    "t_ret_roll = pd.Series(data=twitter_archive_ts_analysis_clean['retweet_count'].rolling(100, min_periods=10).mean().values, index=twitter_archive_ts_analysis_clean['timestamp'])\n",
    "t_fav_roll.plot(figsize=(16,4), label=\"Favorites\", legend=True)\n",
    "t_ret_roll.plot(figsize=(16,4), label=\"Retweets\", legend=True)\n",
    "plt.title('Rolling Mean Favorites and Retweets Over Time', fontsize=14);"
   ]
  },
  {
   "cell_type": "markdown",
   "metadata": {},
   "source": [
    "* **Insight #3:** With the outliers removed, it's very likely that the follower counts of 'WeRateDogs' increased significantly from 2015-2017 due to the greater number of favorites and retweets."
   ]
  }
 ],
 "metadata": {
  "kernelspec": {
   "display_name": "Python 3",
   "language": "python",
   "name": "python3"
  },
  "language_info": {
   "codemirror_mode": {
    "name": "ipython",
    "version": 3
   },
   "file_extension": ".py",
   "mimetype": "text/x-python",
   "name": "python",
   "nbconvert_exporter": "python",
   "pygments_lexer": "ipython3",
   "version": "3.6.3"
  }
 },
 "nbformat": 4,
 "nbformat_minor": 2
}
